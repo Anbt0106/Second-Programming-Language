{
 "cells": [
  {
   "metadata": {},
   "cell_type": "markdown",
   "source": [
    "## 4.1 Tìm phần tử duy nhất trong danh sách\n",
    "\n",
    "Cho một danh sách các số nguyên, trong đó các phần tử đều xuất hiện đúng 2 lần, ngoại trừ duy nhất 1 phần tử xuất hiện đúng 1 lần. Tìm phần tử xuất hiện đúng 1 lần trong danh sách.\n",
    "\n",
    "\n",
    "\n",
    "Ví dụ a = [1,2,3,2,3,1,4,5,4] phần tử cần tìm là 5\n",
    "\n",
    "hoàn thiện hàm findUniq(a) trong file Pract.py theo các mô tả trên.\n",
    "\n",
    "Hàm này nhận đối số a là danh sách số nguyên và trả về 1 số nguyên là phần tử xuất hiện duy nhất 1 lần trong danh sách a.\n",
    "\n",
    "<> Chú ý, test chương trình sẽ khá lớn, bạn nên làm với thuật toán với độ phức tạp ~O(n), với các giải thuật với độ phức tạp lớn hơn có thể chương trình sẽ không đạt được điểm tối đa.\n",
    "\n",
    "Chương trình bạn cần chạy trong thời gian <= 100000 microsecond (100 ms)"
   ],
   "id": "c994381c223b4eb6"
  },
  {
   "cell_type": "code",
   "id": "initial_id",
   "metadata": {
    "collapsed": true,
    "ExecuteTime": {
     "end_time": "2025-03-20T09:47:55.401975Z",
     "start_time": "2025-03-20T09:47:55.386277Z"
    }
   },
   "source": [
    "from itertools import count\n",
    "\n",
    "#Hoàn thiện hàm findUniq(a), tìm và trả lại giá trị xuất hiện duy nhất 1 lần trong danh sách a\n",
    "import numpy as np\n",
    "\n",
    "\n",
    "def findUniq(a):\n",
    "    '''\n",
    "    Tìm phần tử xuất hiện đúng 1 lần trong danh sách.\n",
    "\n",
    "    Ví dụ a = [1,2,3,2,3,1,4,5,4] phần tử cần tìm và trả về là 5\n",
    "\n",
    "    '''\n",
    "    arr = np.array(a)\n",
    "    i, count = np.unique(arr, return_counts=True)\n",
    "    print(i)\n",
    "    print(count)\n",
    "    return i[count == 1][0]\n",
    "\n",
    "\n",
    "a = [1, 2, 9, 3, 2, 3, 1, 4, 5, 4]\n",
    "print((type(a)))\n",
    "print(type(count))\n",
    "print(findUniq(a))"
   ],
   "outputs": [
    {
     "name": "stdout",
     "output_type": "stream",
     "text": [
      "<class 'list'>\n",
      "<class 'type'>\n",
      "[1 2 3 4 5 9]\n",
      "[2 2 2 2 1 1]\n",
      "[5 9]\n"
     ]
    }
   ],
   "execution_count": 14
  },
  {
   "metadata": {},
   "cell_type": "markdown",
   "source": [
    "## 4.2 Liệt kê các số\n",
    "\n",
    "Viết chương trình tìm tất cả các số chia hết cho 11 nhưng không phải bội số của 3, nằm trong đoạn a và b (tính cả a và b). Với a, b là các số nguyên được nhập từ bàn phím. Các số thu được sẽ được in thành chuỗi trên một dòng, cách nhau bằng dấu chấm phẩy và dấu cách “; ”.\n",
    "\n"
   ],
   "id": "369c69105eb2317c"
  },
  {
   "metadata": {},
   "cell_type": "code",
   "outputs": [],
   "execution_count": null,
   "source": [
    "#Viết chương trình tìm tất cả các số chia hết cho 11 nhưng không phải bội số của 3, nằm trong đoạn a và b (tính cả a và b).\n",
    "#Với a, b là các số nguyên được nhập từ bàn phím.\n",
    "#Các số thu được sẽ được in thành chuỗi trên một dòng, cách nhau bằng dấu chấm phẩy và dấu cách “; ”.a\n",
    "\n",
    "a = int(input())\n",
    "b = int(input())\n",
    "\n",
    "\n",
    "def find_numbers(a, b):\n",
    "    result = []\n",
    "    for i in range(a, b + 1):\n",
    "        if i % 11 == 0 and i % 3 != 0:\n",
    "            result.append(i)\n",
    "    return result\n",
    "\n",
    "\n",
    "result = find_numbers(a, b)\n",
    "print('; '.join(map(str, result)))"
   ],
   "id": "3e9e07df10f4d47c"
  },
  {
   "metadata": {},
   "cell_type": "markdown",
   "source": [
    "## 4.3 Sinh từ điển\n",
    "Nhập số nguyên dương từ bàn phím, hãy viết chương trình để tạo ra một dictionary chứa (i, và đảo ngược của i*i) với i là số nguyên từ 1 đến n (bao gồm cả 1 và n) sau đó in ra dictionary này. Ví dụ: Giả sử số n là 8 thì đầu ra sẽ là: {1: 1, 2: 4, 3: 9, 4: 61, 5: 52, 6: 63, 7: 94, 8: 46}.\n",
    "\n"
   ],
   "id": "fc12f2dd6912e5f3"
  },
  {
   "metadata": {
    "ExecuteTime": {
     "end_time": "2025-03-27T07:45:59.132580Z",
     "start_time": "2025-03-27T07:45:55.440830Z"
    }
   },
   "cell_type": "code",
   "source": [
    "n = int(input())\n",
    "\n",
    "\n",
    "def create_dict(n):\n",
    "    result = {}\n",
    "    for i in range(1, n + 1):\n",
    "        result[i] = int(str(i * i)[::-1])\n",
    "    return result\n",
    "\n",
    "\n",
    "result = create_dict(n)\n",
    "print(type(result))\n",
    "print(result)"
   ],
   "id": "febc03c316ad6f4",
   "outputs": [
    {
     "name": "stdout",
     "output_type": "stream",
     "text": [
      "<class 'dict'>\n",
      "{1: 1, 2: 4, 3: 9, 4: 61, 5: 52}\n"
     ]
    }
   ],
   "execution_count": 2
  },
  {
   "metadata": {},
   "cell_type": "markdown",
   "source": [
    "## 4.4 Từ điển xâu đối xứng\n",
    "Nhập vào một danh sách các chuỗi từ một dòng từ bàn phím (mỗi chuỗi cách nhau bởi 1 dấu cách), sinh ra từ điển gồm khóa là chuỗi s, và giá trị là xâu đối xứng tạo được từ s và đảo ngược của s. Ví dụ s = “abc”, xâu đối xứng là “abccba”. In từ điển ra màn hình.\n",
    "\n",
    "\n"
   ],
   "id": "d9a71059127581c3"
  },
  {
   "metadata": {
    "ExecuteTime": {
     "end_time": "2025-03-20T10:24:09.724870Z",
     "start_time": "2025-03-20T10:24:05.702362Z"
    }
   },
   "cell_type": "code",
   "source": [
    "strg = input().split()\n",
    "\n",
    "dictionary = {}\n",
    "\n",
    "for s in strg:\n",
    "    dictionary[s] = s + s[::-1]\n",
    "print(dictionary)"
   ],
   "id": "1406505fdf620858",
   "outputs": [
    {
     "name": "stdout",
     "output_type": "stream",
     "text": [
      "{'4y3': '4y33y4', '83y4': '83y44y38'}\n"
     ]
    }
   ],
   "execution_count": 19
  },
  {
   "metadata": {},
   "cell_type": "markdown",
   "source": [
    "Viết chương trình tính số tiền thực của một tài khoản ngân hàng dựa trên nhật ký giao dịch được nhập vào từ giao diện điều khiển.\n",
    "\n",
    "Định dạng nhật ký được hiển thị như sau:\n",
    "\n",
    "D 100\n",
    "\n",
    "W 200\n",
    "\n",
    "(D là tiền gửi, W là tiền rút ra).\n",
    "\n",
    "Giả sử đầu vào được cung cấp là:\n",
    "\n",
    "D 300\n",
    "\n",
    "D 300\n",
    "\n",
    "W 200\n",
    "\n",
    "D 100\n",
    "\n",
    "Thì đầu ra sẽ là: 500\n",
    "\n",
    "Đầu vào được nhập từ bàn phím trên từng dòng, việc nhập kết thúc khi gặp dòng trống"
   ],
   "id": "8f2f56262d6d4df2"
  },
  {
   "metadata": {},
   "cell_type": "code",
   "outputs": [],
   "execution_count": null,
   "source": "",
   "id": "d9c0acabf45a138c"
  }
 ],
 "metadata": {
  "kernelspec": {
   "display_name": "Python 3",
   "language": "python",
   "name": "python3"
  },
  "language_info": {
   "codemirror_mode": {
    "name": "ipython",
    "version": 2
   },
   "file_extension": ".py",
   "mimetype": "text/x-python",
   "name": "python",
   "nbconvert_exporter": "python",
   "pygments_lexer": "ipython2",
   "version": "2.7.6"
  }
 },
 "nbformat": 4,
 "nbformat_minor": 5
}
