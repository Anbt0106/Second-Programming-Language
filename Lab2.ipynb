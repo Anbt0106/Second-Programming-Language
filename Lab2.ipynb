{
 "cells": [
  {
   "cell_type": "markdown",
   "metadata": {},
   "source": [
    "## Phần 2: Lập trình cơ bản với Python"
   ]
  },
  {
   "cell_type": "markdown",
   "metadata": {},
   "source": [
    "2.1 Dãy số\n",
    "Hoàn thiện các hàm trong file Seq.py thực hiện các yêu cầu sau\n",
    "\n",
    "1. Hàm isAlt(a) thực hiện kiểm tra dãy số a có phải là dãy đan dấu hay không? Nếu đúng trả về giá trị là True/ Nếu sai trả về giá trị là False\n",
    "\n",
    "2. Hàm isGrow(a) thực hiện kiểm tra dãy số a có phải là dãy tăng hay không? Nếu đúng trả về giá trị là True/ Nếu sai trả về giá trị là False\n",
    "\n",
    "3. Hàm isMulti(a) thực hiện kiểm tra dãy số a có phải là cấp số nhân hay không? Nếu đúng trả về giá trị là True/ Nếu sai trả về giá trị là False\n",
    "\n",
    "4. Hàm isAdd(a) thực hiện kiểm tra dãy số a có phải là cấp số cộng hay không? Nếu đúng trả về giá trị là True/ Nếu sai trả về giá trị là False\n",
    "\n",
    "* Sai số chấp nhận cho các phép tính là 10e-10"
   ]
  },
  {
   "cell_type": "code",
   "execution_count": null,
   "metadata": {},
   "outputs": [],
   "source": [
    "def isAlt(a):\n",
    "    pass\n",
    "\n",
    "\n",
    "def isGrow(a):\n",
    "    pass\n",
    "\n",
    "\n",
    "def isMulti(a):\n",
    "    pass\n",
    "\n",
    "\n",
    "def isAdd(a):\n",
    "    pass"
   ]
  },
  {
   "cell_type": "markdown",
   "metadata": {},
   "source": [
    "2.2 Tam giác PASCAL\n",
    "\n",
    "Hoàn thiện chương trình nhập vào số nguyên m, in ra tam giác PASCAL bậc m. Theo yêu cầu Bài 3 trong file đề bài.\n",
    "\n",
    "Ví dụ m = 3,\n",
    "\n",
    "kết quả in ra là\n",
    "\n",
    "1 \n",
    "\n",
    "1 1 \n",
    "\n",
    "1 2 1 \n",
    "\n",
    "1 3 3 1 \n",
    "\n",
    "*Chú ý kết quả có 1 dấu cách ở cuối mỗi dòng"
   ]
  },
  {
   "cell_type": "code",
   "execution_count": null,
   "metadata": {},
   "outputs": [],
   "source": [
    "# Chương trình in tam giác PASCAL"
   ]
  },
  {
   "cell_type": "markdown",
   "metadata": {},
   "source": [
    "2.3 Ký tự xuất hiện nhiều nhất\n",
    "Viết chương trình nhập vào một xâu S, in ra ký tự và số lần xuất hiện của ký tự xuất hiện nhiều nhất trong xâu S. Kết quả in ra dưới dạng: #C #N trong đó #C là ký tự, #N số lần xuất hiện của ký tự #C"
   ]
  },
  {
   "cell_type": "code",
   "execution_count": null,
   "metadata": {},
   "outputs": [],
   "source": []
  },
  {
   "cell_type": "markdown",
   "metadata": {},
   "source": [
    "2.4 Kiểm tra ma trận ma phương\n",
    "\n",
    "Viết chương trình nhập vào ma trận từ bàn phím, kiểm tra xem ma trận có phải là ma phương hay không?\n",
    "\n",
    "Ma trận ma phương là ma trận có các giá trị từ 1 đến n2  và có tổng các hàng, các cột và các đường chéo bằng nhau.\n",
    "\n",
    "> Hàm isMagicSquare là hàm kiểm tra tính chất ma phương của một ma trận\n",
    "\n",
    "> Hàm inputMatrix() thực hiện việc nhập và trả lại một ma trận (mảng 2 chiều)  các số nguyên.\n",
    "\n",
    "+ Mỗi hàng của ma trận được nhập trên 1 dòng, mỗi số cách nhau bởi 1 dấu tab ('\\t')\n",
    "\n",
    "+ Việc nhập kết thúc khi gặp dòng trống\n"
   ]
  },
  {
   "cell_type": "code",
   "execution_count": null,
   "metadata": {},
   "outputs": [],
   "source": [
    "def isMagicSquare(m):\n",
    "    return False\n",
    "\n",
    "def inputMatrix():\n",
    "    m = []\n",
    "    \n",
    "    return m\n"
   ]
  },
  {
   "cell_type": "markdown",
   "metadata": {},
   "source": [
    "2.5 Sắp xếp tên\n",
    "\n",
    "Nhập vào một danh sách gồm Họ tên từ bàn phím\n",
    "\n",
    "Viết hàm tách tên và họ đệm từ một chuỗi họ tên, sắp xếp danh sách  họ tên theo tên, nếu tên trùng nhau thì sắp theo họ đệm.\n",
    "\n",
    "> Hàm inputList() thực hiện việc nhập và trả lại danh sách họ tên từ bàn phím, mỗi chuỗi họ tên trên 1 dòng, việc nhập kết thúc khi gặp dòng trống\n",
    "\n",
    "> Hàm getName(s) trả lại bộ gồm 2 chuỗi tương ứng là họ đệm và tên từ chuỗi s\n",
    "\n",
    "> Hàm sortNamesList(names) thực hiện sắp xếp danh sách  họ tên names theo tên, nếu tên trùng nhau thì sắp theo họ đệm, kết quả trả về một danh sách đã được sắp xếp theo Tên, họ đệm.\n",
    "\n",
    "Sinh viên tham khảo bài viết Sắp xếp tiếng Việt (https://pymi.vn) để biết cách sắp xếp xâu unicode theo ngôn ngữ.\n",
    "\n",
    "Trong requested file   NamesSort.py đã đặt locale cho tiếng Việt.\n",
    "\n",
    "Sử dụng phương thức locale.strxfrm(s) để lấy chuỗi theo đúng thứ tự trong ngôn ngữ để so sánh.\n",
    "\n",
    ">>> help(locale.strxfrm)\n",
    "\n",
    "Help on built-in function strxfrm in module _locale:\n",
    "\n",
    "strxfrm(...)\n",
    "\n",
    "    strxfrm(string) -> string.\n",
    "\n",
    "    Return a string that can be used as a key for locale-aware comparisons."
   ]
  },
  {
   "cell_type": "code",
   "execution_count": null,
   "metadata": {},
   "outputs": [],
   "source": [
    "# -*- coding: utf-8 -*-\n",
    "import locale\n",
    "\n",
    "locale.setlocale(locale.LC_ALL, 'vi_VN')\n",
    "\n",
    "def inputList():\n",
    "    names = []\n",
    "    \n",
    "    return names\n",
    "    \n",
    "def getName(s):\n",
    "    lname = ''\n",
    "    fname = ''\n",
    "    return (lname, fname)\n",
    "    \n",
    "def sortNamesList(names):\n",
    "    \n",
    "    return namesSorted"
   ]
  },
  {
   "cell_type": "markdown",
   "metadata": {},
   "source": [
    "2.6 Sắp xếp các phần tử trong mảng\n",
    "\n",
    "Viết chương trình thực hiện các chức năng sau:\n",
    "\n",
    "Nhập mảng\n",
    "\n",
    "Sắp xếp các phần tử trong mảng theo thứ tự tăng dần\n",
    "\n",
    "In mảng\n",
    "\n",
    "VÍ dụ:\n",
    "\n",
    "input: 1 2 4 5 3 6 0 9 8 7\n",
    "\n",
    "output: 0 1 2 3 4 5 6 7 8 9"
   ]
  },
  {
   "cell_type": "code",
   "execution_count": null,
   "metadata": {},
   "outputs": [],
   "source": [
    "def inputArray():\n",
    "    array = []\n",
    "    \n",
    "    return array\n",
    "    \n",
    "def sort_array(array):\n",
    "    r = []\n",
    "    \n",
    "    return r\n",
    "    \n",
    "def printArray(r):\n",
    "    \n",
    "    pass\n",
    "\n",
    "arr = inputArray()\n",
    "r = sort_array(arr)\n",
    "printArray(r)"
   ]
  },
  {
   "cell_type": "markdown",
   "metadata": {},
   "source": [
    "2.7 Tìm giá trị lớn thứ hai và nhỏ thứ hai trong mảng\n",
    "\n",
    "Viết chương trình thực hiện các chức năng sau:\n",
    "\n",
    "Nhập mảng\n",
    "\n",
    "Tìm phần tử nhỏ thứ hai và lớn thứ hai trong mảng\n",
    "\n",
    "Ví dụ:\n",
    "\n",
    "Input: -1 1 0 1 2 -3 4\n",
    "\n",
    "output: -1 2"
   ]
  },
  {
   "cell_type": "code",
   "execution_count": null,
   "metadata": {},
   "outputs": [],
   "source": [
    "def input_array():\n",
    "    array = []\n",
    "    \n",
    "    return array\n",
    "\n",
    "def find_second_max_min(array):\n",
    "    a = 0 # second_max\n",
    "    b = 0 # second_min\n",
    "    return a, b\n",
    "\n",
    "\n",
    "\n",
    "array = input_array()\n",
    "print(find_second_max_min(array))"
   ]
  },
  {
   "cell_type": "markdown",
   "metadata": {},
   "source": [
    "2.8 Nhân ma trận\n",
    "\n",
    "Viết chương trình cho phép nhập 2 ma trận A và B có kịch thước tương ứng là (NxM) và (M XD) từ bàn phím, thực hiện phép nhân ma trận AxB.\n",
    "\n",
    "Hàm inputMatrix() thực hiện việc nhập kích thước ma trận, ma trận và trả lại một ma trận (mảng 2 chiều)  các số nguyên\n",
    "\n",
    "Hàm multiMatrix(m1, m2) thực hiện việc nhân hai ma trận và trả lại một ma trận các số nguyên.\n",
    "\n",
    "Hàm printMatrix(m) thực hiện in ra ma trận.\n",
    "\n",
    "Input: \n",
    "\n",
    "ma trận A: NxM\n",
    "\n",
    "ma trận B: MxD\n",
    "\n",
    "output:\n",
    "\n",
    "ma trận C: NxD\n",
    "\n",
    "Ví dụ:\n",
    "\n",
    "3 2 (Size of matrix 1)\n",
    "\n",
    "1 2\n",
    "\n",
    "4 5\n",
    "\n",
    "7 8\n",
    "\n",
    "2 3  (Size of matrix 2)\n",
    "\n",
    "1 0 1 \n",
    "\n",
    "1 0 1"
   ]
  },
  {
   "cell_type": "code",
   "execution_count": null,
   "metadata": {},
   "outputs": [],
   "source": [
    "def inputMatrix():\n",
    "\tm = []\n",
    "\n",
    "\treturn m\n",
    "\t\n",
    "def multiMatrix(m1, m2):\n",
    "\tr = []\n",
    "\n",
    "\treturn r\n",
    "\t\n",
    "def printMatrix(m):\n",
    "    # your code\n",
    "    pass\n",
    "\n",
    "m1 = inputMatrix()\n",
    "m2 = inputMatrix()\n",
    "\n",
    "mm = multiMatrix(m1, m2)\n",
    "printMatrix(mm)"
   ]
  },
  {
   "cell_type": "markdown",
   "metadata": {},
   "source": [
    "2.9 Kiểm tra ma trận tam giác trên \n",
    "\n",
    "Viết chương trình thực hiện các chức năng sau: \n",
    "\n",
    "Nhập ma trận\n",
    "\n",
    "Kiểm tra xem ma trận đó có phải ma trận tam giác trên hay không?"
   ]
  },
  {
   "cell_type": "code",
   "execution_count": null,
   "metadata": {},
   "outputs": [],
   "source": [
    "def inputMatrix()\n",
    "    m = []\n",
    "    return m\n",
    "\n",
    "\n",
    "def isUpperTriangleMatrix(m):\n",
    "    return True\n",
    "    \n",
    "    \n",
    "m = inputMatrix()\n",
    "print(isUpperTriangleMatrix(m))"
   ]
  },
  {
   "cell_type": "markdown",
   "metadata": {},
   "source": [
    "2.10 Ma trận chuyển vị\n",
    "\n",
    "Viết chương trình thực hiện các chức năng sau:\n",
    "\n",
    "-Nhập ma trận vuông 2 chiều M: NxN\n",
    "\n",
    "-Thực hiện phép chuyển vị cho ma trận M\n",
    "\n",
    "-In ra ma trận chuyển vị"
   ]
  },
  {
   "cell_type": "code",
   "execution_count": null,
   "metadata": {},
   "outputs": [],
   "source": [
    "def inputMatrix():\n",
    "    m = []\n",
    "    return m\n",
    "\n",
    "def transpose(m):\n",
    "    t = []\n",
    "    return t\n",
    "    \n",
    "def printMatrix(t):\n",
    "    \n",
    "    pass\n",
    "\n",
    "\n",
    "m = inputMatrix()\n",
    "t = transpose(m)\n",
    "printMatrix(t)\n",
    "    "
   ]
  }
 ],
 "metadata": {
  "language_info": {
   "name": "python"
  }
 },
 "nbformat": 4,
 "nbformat_minor": 2
}
