{
 "cells": [
  {
   "cell_type": "markdown",
   "metadata": {},
   "source": [
    "## Phần 2: Lập trình cơ bản với Python"
   ]
  },
  {
   "cell_type": "markdown",
   "metadata": {},
   "source": [
    "2.1 Dãy số\n",
    "Hoàn thiện các hàm trong file Seq.py thực hiện các yêu cầu sau\n",
    "\n",
    "1. Hàm isAlt(a) thực hiện kiểm tra dãy số a có phải là dãy đan dấu hay không? Nếu đúng trả về giá trị là True/ Nếu sai trả về giá trị là False\n",
    "\n",
    "2. Hàm isGrow(a) thực hiện kiểm tra dãy số a có phải là dãy tăng hay không? Nếu đúng trả về giá trị là True/ Nếu sai trả về giá trị là False\n",
    "\n",
    "3. Hàm isMulti(a) thực hiện kiểm tra dãy số a có phải là cấp số nhân hay không? Nếu đúng trả về giá trị là True/ Nếu sai trả về giá trị là False\n",
    "\n",
    "4. Hàm isAdd(a) thực hiện kiểm tra dãy số a có phải là cấp số cộng hay không? Nếu đúng trả về giá trị là True/ Nếu sai trả về giá trị là False\n",
    "\n",
    "* Sai số chấp nhận cho các phép tính là 10e-10"
   ]
  },
  {
   "cell_type": "code",
   "execution_count": 18,
   "metadata": {},
   "outputs": [],
   "source": [
    "def isAlt(a):\n",
    "    for i in range(1, len(a) - 1):\n",
    "        if (a[i + 1] * a[i]) >= 0:\n",
    "            return False\n",
    "\n",
    "    return True\n",
    "\n",
    "\n",
    "def isGrow(a):\n",
    "    for i in range(1, len(a) - 1):\n",
    "        if a[i + 1] <= a[i]:\n",
    "            return False\n",
    "\n",
    "    return True\n",
    "\n",
    "\n",
    "def isMulti(a):\n",
    "    q = a[1] / a[0]\n",
    "\n",
    "    for i in range(1, len(a) - 1):\n",
    "        if (a[i + 1] / a[i]) != q:\n",
    "            return False\n",
    "    return True\n",
    "\n",
    "\n",
    "def isAdd(a):\n",
    "    d = a[1] - a[0]\n",
    "    for i in range(1, len(a)):\n",
    "        if abs(a[i] - a[i - 1] - d) >= 1e-10:\n",
    "            return False\n",
    "\n",
    "    return True"
   ]
  },
  {
   "cell_type": "code",
   "execution_count": null,
   "metadata": {},
   "outputs": [],
   "source": [
    "def isAlt(a):\n",
    "    return all(i * j < 0 for i, j in zip(a, a[1:]))\n",
    "\n",
    "\n",
    "def isGrow(a):\n",
    "    return all(i < j for i, j in zip(a, a[1:]))\n",
    "\n",
    "\n",
    "def isMulti(a):\n",
    "    k = 0 if a[0] == 0 else a[1] / a[0]\n",
    "    return k > 0 and all([j / i == k for i, j in zip(a, a[1:])])\n",
    "\n",
    "\n",
    "def isAdd(a):\n",
    "    k = a[1] - a[0]\n",
    "    return all([j - i == k for i, j in zip(a, a[1:])])"
   ]
  },
  {
   "cell_type": "code",
   "execution_count": 19,
   "metadata": {},
   "outputs": [
    {
     "data": {
      "text/plain": [
       "True"
      ]
     },
     "execution_count": 19,
     "metadata": {},
     "output_type": "execute_result"
    }
   ],
   "source": [
    "arr_1 = [1, 2, 3, 4, 5, 6, 7]\n",
    "arr_2 = [1, -2, 3, -4, 5, -6, 7, -8]\n",
    "arr_3 = [2, 2, 2, 2, 2, 2, 2, 2, 2]\n",
    "arr_4 = [1.11, 2.11, 3.11, 4.11, 5.11, 6.11, 7.11]\n",
    "\n",
    "isAdd(arr_4)"
   ]
  },
  {
   "cell_type": "markdown",
   "metadata": {},
   "source": [
    "2.2 Tam giác PASCAL\n",
    "\n",
    "Hoàn thiện chương trình nhập vào số nguyên m, in ra tam giác PASCAL bậc m. Theo yêu cầu Bài 3 trong file đề bài.\n",
    "\n",
    "Ví dụ m = 3,\n",
    "\n",
    "kết quả in ra là\n",
    "\n",
    "1 \n",
    "\n",
    "1 1 \n",
    "\n",
    "1 2 1 \n",
    "\n",
    "1 3 3 1 \n",
    "\n",
    "*Chú ý kết quả có 1 dấu cách ở cuối mỗi dòng"
   ]
  },
  {
   "cell_type": "code",
   "execution_count": 7,
   "metadata": {
    "ExecuteTime": {
     "end_time": "2025-02-20T13:51:56.638918Z",
     "start_time": "2025-02-20T13:51:56.629641Z"
    }
   },
   "outputs": [
    {
     "name": "stdout",
     "output_type": "stream",
     "text": [
      "1 \n",
      "1 1 \n",
      "1 2 1 \n",
      "1 3 3 1 \n",
      "1 4 6 4 1 \n",
      "1 5 10 10 5 1 \n"
     ]
    }
   ],
   "source": [
    "# Chương trình in tam giác PASCAL\n",
    "import math\n",
    "\n",
    "m = int(input())\n",
    "\n",
    "for i in range(m + 1):\n",
    "    for j in range(i + 1):\n",
    "        # Tính hệ số nhị thức hàng thứ i, cột thứ j: C(i, j) = i! / (j! * (i-j)!)\n",
    "        k_ij = (math.factorial(i) / (math.factorial(j) * math.factorial(i - j)))\n",
    "        print(int(k_ij), end=' ')\n",
    "    print()"
   ]
  },
  {
   "cell_type": "markdown",
   "metadata": {},
   "source": [
    "2.3 Ký tự xuất hiện nhiều nhất\n",
    "Viết chương trình nhập vào một xâu S, in ra ký tự và số lần xuất hiện của ký tự xuất hiện nhiều nhất trong xâu S. Kết quả in ra dưới dạng: #C #N trong đó #C là ký tự, #N số lần xuất hiện của ký tự #C"
   ]
  },
  {
   "cell_type": "code",
   "execution_count": 2,
   "metadata": {
    "ExecuteTime": {
     "end_time": "2025-02-27T09:52:45.051273Z",
     "start_time": "2025-02-27T09:52:45.019324Z"
    }
   },
   "outputs": [
    {
     "ename": "SyntaxError",
     "evalue": "did you forget parentheses around the comprehension target? (3276680924.py, line 24)",
     "output_type": "error",
     "traceback": [
      "\u001b[1;36m  Cell \u001b[1;32mIn[2], line 24\u001b[1;36m\u001b[0m\n\u001b[1;33m    max([{i, s.count(i) for i in s}])\u001b[0m\n\u001b[1;37m          ^\u001b[0m\n\u001b[1;31mSyntaxError\u001b[0m\u001b[1;31m:\u001b[0m did you forget parentheses around the comprehension target?\n"
     ]
    }
   ],
   "source": [
    "s = input()\n",
    "dict_ = {}\n",
    "\n",
    "for char in s:\n",
    "    if char in dict_:\n",
    "        dict_[char] += 1\n",
    "    else:\n",
    "        dict_[char] = 1\n",
    "\n",
    "max_c = max(dict_, key=dict_.get)\n",
    "\n",
    "print(dict_)\n",
    "print(max_c, dict_[max_c])\n",
    "\n",
    "s = 'abbdsj'\n",
    "\n",
    "# d = {}\n",
    "# for c in s:\n",
    "#     d[c] - d.get(c, 0) + 1\n",
    "#\n",
    "# print(d)\n",
    "\n",
    "\n",
    "\n",
    "\n"
   ]
  },
  {
   "cell_type": "markdown",
   "metadata": {},
   "source": [
    "2.4 Kiểm tra ma trận ma phương\n",
    "\n",
    "Viết chương trình nhập vào ma trận từ bàn phím, kiểm tra xem ma trận có phải là ma phương hay không?\n",
    "\n",
    "Ma trận ma phương là ma trận có các giá trị từ 1 đến n2  và có tổng các hàng, các cột và các đường chéo bằng nhau.\n",
    "\n",
    "> Hàm isMagicSquare là hàm kiểm tra tính chất ma phương của một ma trận\n",
    "\n",
    "> Hàm inputMatrix() thực hiện việc nhập và trả lại một ma trận (mảng 2 chiều)  các số nguyên.\n",
    "\n",
    "+ Mỗi hàng của ma trận được nhập trên 1 dòng, mỗi số cách nhau bởi 1 dấu tab ('\\t')\n",
    "\n",
    "+ Việc nhập kết thúc khi gặp dòng trống\n"
   ]
  },
  {
   "cell_type": "code",
   "execution_count": null,
   "metadata": {},
   "outputs": [],
   "source": [
    "import numpy as np\n",
    "\n",
    "\n",
    "def isMagicSquare(m):\n",
    "    s = sum(m[0])\n",
    "    m = np.array(m)\n",
    "\n",
    "    # Kiểm tra tổng các hàng\n",
    "    for i in range(1, len(m)):\n",
    "        if sum(m[i]) != s:\n",
    "            return False\n",
    "\n",
    "    # Kiểm tra tổng các cột\n",
    "    for i in range(len(m)):\n",
    "        if sum(m[:, i]) != s:\n",
    "            return False\n",
    "\n",
    "    # Kiểm tra tổng đường chéo chính\n",
    "    if sum(m.diagonal()) != s:\n",
    "        return False\n",
    "\n",
    "    # Kiểm tra tổng đường chéo phụ\n",
    "    if sum(m[::-1].diagonal()) != s:\n",
    "        return False\n",
    "\n",
    "    return True\n",
    "\n",
    "\n",
    "def inputMatrix():\n",
    "    m = []\n",
    "    while True:\n",
    "        line = input().strip()\n",
    "        if not line:\n",
    "            break\n",
    "        row = list(map(int, line.split('\\t')))\n",
    "        m.append(row)\n",
    "    return m\n"
   ]
  },
  {
   "cell_type": "markdown",
   "metadata": {},
   "source": [
    "2.5 Sắp xếp tên\n",
    "\n",
    "Nhập vào một danh sách gồm Họ tên từ bàn phím\n",
    "\n",
    "Viết hàm tách tên và họ đệm từ một chuỗi họ tên, sắp xếp danh sách  họ tên theo tên, nếu tên trùng nhau thì sắp theo họ đệm.\n",
    "\n",
    "> Hàm inputList() thực hiện việc nhập và trả lại danh sách họ tên từ bàn phím, mỗi chuỗi họ tên trên 1 dòng, việc nhập kết thúc khi gặp dòng trống\n",
    "\n",
    "> Hàm getName(s) trả lại bộ gồm 2 chuỗi tương ứng là họ đệm và tên từ chuỗi s\n",
    "\n",
    "> Hàm sortNamesList(names) thực hiện sắp xếp danh sách  họ tên names theo tên, nếu tên trùng nhau thì sắp theo họ đệm, kết quả trả về một danh sách đã được sắp xếp theo Tên, họ đệm.\n",
    "\n",
    "Sinh viên tham khảo bài viết Sắp xếp tiếng Việt (https://pymi.vn) để biết cách sắp xếp xâu unicode theo ngôn ngữ.\n",
    "\n",
    "Trong requested file   NamesSort.py đã đặt locale cho tiếng Việt.\n",
    "\n",
    "Sử dụng phương thức locale.strxfrm(s) để lấy chuỗi theo đúng thứ tự trong ngôn ngữ để so sánh.\n",
    "\n",
    ">>> help(locale.strxfrm)\n",
    "\n",
    "Help on built-in function strxfrm in module _locale:\n",
    "\n",
    "strxfrm(...)\n",
    "\n",
    "    strxfrm(string) -> string.\n",
    "\n",
    "    Return a string that can be used as a key for locale-aware comparisons."
   ]
  },
  {
   "cell_type": "code",
   "execution_count": null,
   "metadata": {},
   "outputs": [],
   "source": [
    "\n",
    "import locale\n",
    "\n",
    "locale.setlocale(locale.LC_ALL, 'vi_VN')\n",
    "\n",
    "\n",
    "def inputList():\n",
    "    names = []\n",
    "    while True:\n",
    "        name = input().strip()\n",
    "        if not name:\n",
    "            break\n",
    "        names.append(name)\n",
    "    return names\n",
    "\n",
    "\n",
    "def getName(s):\n",
    "    lname = ''\n",
    "    fname = ''\n",
    "    s = s.split()\n",
    "    if len(s) > 1:\n",
    "        lname = s[-1]\n",
    "        fname = ' '.join(s[:-1])\n",
    "    else:\n",
    "        lname = s[0]\n",
    "    return (lname, fname)\n",
    "\n",
    "\n",
    "def sortNamesList(names):  # sắp xếp theo tên, nếu tên trùng nhau thì sắp theo họ đệm\n",
    "    return namesSorted\n"
   ]
  },
  {
   "cell_type": "markdown",
   "metadata": {},
   "source": [
    "2.6 Sắp xếp các phần tử trong mảng\n",
    "\n",
    "Viết chương trình thực hiện các chức năng sau:\n",
    "\n",
    "Nhập mảng\n",
    "\n",
    "Sắp xếp các phần tử trong mảng theo thứ tự tăng dần\n",
    "\n",
    "In mảng\n",
    "\n",
    "VÍ dụ:\n",
    "\n",
    "input: 1 2 4 5 3 6 0 9 8 7\n",
    "\n",
    "output: 0 1 2 3 4 5 6 7 8 9"
   ]
  },
  {
   "cell_type": "code",
   "execution_count": null,
   "metadata": {
    "ExecuteTime": {
     "end_time": "2025-03-12T16:34:37.519418Z",
     "start_time": "2025-03-12T16:34:34.342803Z"
    }
   },
   "outputs": [
    {
     "name": "stdout",
     "output_type": "stream",
     "text": [
      "-1 -1 -2 -4 -4 -5 -6 -6 0 "
     ]
    }
   ],
   "source": [
    "import numpy as np\n",
    "\n",
    "\n",
    "def inputArray():\n",
    "    array = []\n",
    "    for i in input().split():\n",
    "        array.append(int(i))\n",
    "\n",
    "    return array\n"
   ]
  },
  {
   "cell_type": "markdown",
   "metadata": {},
   "source": [
    "2.7 Tìm giá trị lớn thứ hai và nhỏ thứ hai trong mảng\n",
    "\n",
    "Viết chương trình thực hiện các chức năng sau:\n",
    "\n",
    "Nhập mảng\n",
    "\n",
    "Tìm phần tử nhỏ thứ hai và lớn thứ hai trong mảng\n",
    "\n",
    "Ví dụ:\n",
    "\n",
    "Input: -1 1 0 1 2 -3 4\n",
    "\n",
    "output: -1 2"
   ]
  },
  {
   "cell_type": "code",
   "execution_count": 24,
   "metadata": {
    "ExecuteTime": {
     "end_time": "2025-02-20T15:09:51.750921Z",
     "start_time": "2025-02-20T15:09:47.707658Z"
    }
   },
   "outputs": [
    {
     "name": "stdout",
     "output_type": "stream",
     "text": [
      "['-1' '-3' '0' '1' '2' '4']\n",
      "None\n"
     ]
    }
   ],
   "source": [
    "import numpy as np\n",
    "\n",
    "\n",
    "def input_array():\n",
    "    array = []\n",
    "    for i in input().split():\n",
    "        array.append(int(i))\n",
    "    return array\n",
    "\n",
    "\n",
    "def find_second_max_min(array):\n",
    "    min_second = 0\n",
    "    max_second = 0\n",
    "    array = np.array(array)\n",
    "    array = np.sort(array)\n",
    "    max_second = array[-2]\n",
    "    min_second = array[1]\n",
    "    return min_second, max_second\n",
    "\n",
    "\n",
    "array = input_array()\n",
    "print(find_second_max_min(array))"
   ]
  },
  {
   "cell_type": "markdown",
   "metadata": {},
   "source": [
    "2.8 Nhân ma trận\n",
    "\n",
    "Viết chương trình cho phép nhập 2 ma trận A và B có kịch thước tương ứng là (NxM) và (M XD) từ bàn phím, thực hiện phép nhân ma trận AxB.\n",
    "\n",
    "Hàm inputMatrix() thực hiện việc nhập kích thước ma trận, ma trận và trả lại một ma trận (mảng 2 chiều)  các số nguyên\n",
    "\n",
    "Hàm multiMatrix(m1, m2) thực hiện việc nhân hai ma trận và trả lại một ma trận các số nguyên.\n",
    "\n",
    "Hàm printMatrix(m) thực hiện in ra ma trận.\n",
    "\n",
    "Input: \n",
    "\n",
    "ma trận A: NxM\n",
    "\n",
    "ma trận B: MxD\n",
    "\n",
    "output:\n",
    "\n",
    "ma trận C: NxD\n",
    "\n",
    "Ví dụ:\n",
    "\n",
    "3 2 (Size of matrix 1)\n",
    "\n",
    "1 2\n",
    "\n",
    "4 5\n",
    "\n",
    "7 8\n",
    "\n",
    "2 3  (Size of matrix 2)\n",
    "\n",
    "1 0 1 \n",
    "\n",
    "1 0 1"
   ]
  },
  {
   "cell_type": "code",
   "execution_count": null,
   "metadata": {},
   "outputs": [],
   "source": [
    "import numpy as np\n",
    "\n",
    "\n",
    "def inputMatrix():\n",
    "    m = []\n",
    "    rows, col = map(int, input().split())\n",
    "\n",
    "    for _ in range(rows):\n",
    "        m.append(list(map(int, input().split())))\n",
    "    return np.array(m)\n",
    "\n",
    "\n",
    "def multiMatrix(m1, m2):\n",
    "    r = []\n",
    "    m1 = np.array(m1)\n",
    "    m2 = np.array(m2)\n",
    "\n",
    "    r = np.dot(m1, m2)\n",
    "    return r\n",
    "\n",
    "\n",
    "def printMatrix(m):\n",
    "    for row in m:\n",
    "        print(\" \".join(map(str, row)))\n",
    "\n",
    "\n",
    "m1 = inputMatrix()\n",
    "m2 = inputMatrix()\n",
    "\n",
    "mm = multiMatrix(m1, m2)\n",
    "printMatrix(mm)"
   ]
  },
  {
   "cell_type": "markdown",
   "metadata": {},
   "source": [
    "2.9 Kiểm tra ma trận tam giác trên \n",
    "\n",
    "Viết chương trình thực hiện các chức năng sau: \n",
    "\n",
    "Nhập ma trận\n",
    "\n",
    "Kiểm tra xem ma trận đó có phải ma trận tam giác trên hay không?"
   ]
  },
  {
   "cell_type": "code",
   "execution_count": null,
   "metadata": {},
   "outputs": [],
   "source": [
    "import numpy as np\n",
    "\n",
    "\n",
    "def inputMatrix():\n",
    "    # Read matrix size\n",
    "    rows, cols = map(int, input().strip())\n",
    "\n",
    "    # Read matrix elements\n",
    "    m = []\n",
    "    for _ in range(rows):\n",
    "        m.append(list(map(int, input().split(\"\\t\"))))\n",
    "\n",
    "    return np.array(m)\n",
    "\n",
    "def isUpperTriangleMatrix(m):\n",
    "    row, col = m.shape\n",
    "\n",
    "    if row != col:\n",
    "        return False\n",
    "    \n",
    "    for i in range(1, row):\n",
    "        for j in range(i):\n",
    "            if m[i][j] != 0:\n",
    "                return False\n",
    "    \n",
    "    return True\n",
    "\n",
    "m = inputMatrix()\n",
    "print(isUpperTriangleMatrix(m))"
   ]
  },
  {
   "cell_type": "markdown",
   "metadata": {},
   "source": [
    "2.10 Ma trận chuyển vị\n",
    "\n",
    "Viết chương trình thực hiện các chức năng sau:\n",
    "\n",
    "-Nhập ma trận vuông 2 chiều M: NxN\n",
    "\n",
    "-Thực hiện phép chuyển vị cho ma trận M\n",
    "\n",
    "-In ra ma trận chuyển vị"
   ]
  },
  {
   "cell_type": "code",
   "execution_count": null,
   "metadata": {},
   "outputs": [],
   "source": [
    "import numpy as np\n",
    "\n",
    "\n",
    "def inputMatrix():\n",
    "    m = []\n",
    "    while True:\n",
    "        row = input().split()\n",
    "        if not row:\n",
    "            break\n",
    "        m.append(list(map(int, row.split(\"\\t\"))))\n",
    "    return m\n",
    "\n",
    "\n",
    "def transpose(m):\n",
    "    # t = []\n",
    "    m = np.array(m)\n",
    "    return m.T\n",
    "\n",
    "\n",
    "def printMatrix(t):\n",
    "    for row in t:\n",
    "        print(\" \".join(map(str, row)))\n",
    "\n",
    "\n",
    "m = inputMatrix()\n",
    "t = transpose(m)\n",
    "printMatrix(t)\n",
    "    "
   ]
  }
 ],
 "metadata": {
  "kernelspec": {
   "display_name": "Python 3",
   "language": "python",
   "name": "python3"
  },
  "language_info": {
   "codemirror_mode": {
    "name": "ipython",
    "version": 3
   },
   "file_extension": ".py",
   "mimetype": "text/x-python",
   "name": "python",
   "nbconvert_exporter": "python",
   "pygments_lexer": "ipython3",
   "version": "3.10.0"
  }
 },
 "nbformat": 4,
 "nbformat_minor": 2
}
