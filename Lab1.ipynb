{
 "cells": [
  {
   "cell_type": "markdown",
   "metadata": {},
   "source": [
    "## Phần 1: Làm quen với Python"
   ]
  },
  {
   "cell_type": "markdown",
   "metadata": {},
   "source": [
    "## Lab1\n",
    "\n",
    "#1.10, 1.11, 1.17 1.18"
   ]
  },
  {
   "cell_type": "code",
   "execution_count": 63,
   "metadata": {
    "ExecuteTime": {
     "end_time": "2025-02-12T16:44:26.569196Z",
     "start_time": "2025-02-12T16:44:23.281581Z"
    }
   },
   "outputs": [
    {
     "name": "stdout",
     "output_type": "stream",
     "text": [
      "73.4\n"
     ]
    }
   ],
   "source": [
    "C = float(input())\n",
    "\n",
    "f = 9 / 5 * C + 32\n",
    "print(round(f, 1))"
   ]
  },
  {
   "cell_type": "markdown",
   "metadata": {},
   "source": [
    "Nhập ba số a, b, c tương ứng là độ dài 3 cạnh của một tam giác. Kiểm tra xem 3 cạnh có lập thành tam giác hay không, nếu có tính chu vi và diện tích tam giác.\n",
    "\n",
    "Chú ý, a, b , c được nhập lần lượt trên từng dòng.\n",
    "\n",
    "- Nếu 3 cạnh không lập thành tam giác in ra INVALID\n",
    "- Nếu 3 cạnh lập thành tam giác in ra S =  #S C =  #C\n",
    "\n",
    "trong đó #S, #C là chu vi và diện tích của tam giác"
   ]
  },
  {
   "cell_type": "code",
   "execution_count": 64,
   "metadata": {
    "ExecuteTime": {
     "end_time": "2025-02-12T16:44:37.319771Z",
     "start_time": "2025-02-12T16:44:28.742269Z"
    }
   },
   "outputs": [
    {
     "name": "stdout",
     "output_type": "stream",
     "text": [
      "S =  7.644442425710328 C =  17.0\n"
     ]
    }
   ],
   "source": [
    "import math\n",
    "\n",
    "a = float(input())\n",
    "b = float(input())\n",
    "c = float(input())\n",
    "\n",
    "if a + b > c and b + c > a and a + c > b:\n",
    "    C = a + b + c\n",
    "    D = C / 2\n",
    "    S = math.sqrt(D * (D - a) * (D - b) * (D - c))\n",
    "\n",
    "    print(\"S = \", S, \"C = \", C)\n",
    "else:\n",
    "    print(\"INVALID\")"
   ]
  },
  {
   "cell_type": "markdown",
   "metadata": {},
   "source": [
    "Nhập vào một số nguyên dương N, tính giai thừa kép N!! của N.\n",
    "\n",
    "Kết quả in ra n!! = #\n",
    "\n",
    "Ví dụ n = 6, kết quả in ra là\n",
    "\n",
    "6!! = 48"
   ]
  },
  {
   "cell_type": "code",
   "execution_count": 65,
   "metadata": {
    "ExecuteTime": {
     "end_time": "2025-02-12T16:44:44.321074Z",
     "start_time": "2025-02-12T16:44:40.467858Z"
    }
   },
   "outputs": [
    {
     "name": "stdout",
     "output_type": "stream",
     "text": [
      "6!! = 48\n"
     ]
    }
   ],
   "source": [
    "n = int(input())\n",
    "a = n\n",
    "result = 1\n",
    "while n > 0:\n",
    "    result *= n\n",
    "    n = n - 2\n",
    "\n",
    "print(f\"{a}!! = {result}\")"
   ]
  },
  {
   "cell_type": "markdown",
   "metadata": {},
   "source": [
    "Viết chương trình giải và biện luận phương trình bậc 2.\n",
    "Hoàn thiện hàm solver(a,b,c) trong file P2.py thực hiện các yêu cầu sau:\n",
    "Giải và biện luận phương trình ax2 + bx + c = 0\n",
    "- Phương trình có nghiệm duy nhất in ra nghiệm duy nhất\n",
    "- Phương trình Có 2 nghiệm in ra 2 nghiệm cách nhau bởi 1 dấu cách\n",
    "- Phương trình vô nghiệm in ra VN\n",
    "- Phương trình vô số nghiệm in ra VSN\n",
    "(Chú ý, các kết quả cần được in ra trong hàm solver chứ không trả lại thông qua lệnh return)"
   ]
  },
  {
   "cell_type": "code",
   "execution_count": 66,
   "metadata": {
    "ExecuteTime": {
     "end_time": "2025-02-12T16:44:47.223436Z",
     "start_time": "2025-02-12T16:44:47.218612Z"
    }
   },
   "outputs": [],
   "source": [
    "def solver(a, b, c):\n",
    "    import math\n",
    "    if a == 0:\n",
    "        if b == 0:\n",
    "            if c == 0:\n",
    "                print(\"VSN\")\n",
    "            else:\n",
    "                print(\"VN\")\n",
    "        else:\n",
    "            print(-c / b)\n",
    "    else:\n",
    "        delta = b ** 2 - 4 * a * c\n",
    "        if delta < 0:\n",
    "            print(\"VN\")\n",
    "        elif delta == 0:\n",
    "            print(-b / (2 * a))\n",
    "        else:\n",
    "            x1 = (-b - math.sqrt(delta)) / (2 * a)\n",
    "            x2 = (-b + math.sqrt(delta)) / (2 * a)\n",
    "            print(f\"{x1} {x2}\")"
   ]
  },
  {
   "cell_type": "markdown",
   "metadata": {},
   "source": [
    "Viết chương trình nhập vào số nguyên dương n từ bàn phím, kiểm tra xem n có phải là số siêu nguyên tố hay không?\n",
    "\n",
    "Số siêu nguyên tố là số nguyên tố mà khi bỏ 1 số tùy ý các chữ số bên phải của nó thì phần còn lại vẫn là số nguyên tố.\n",
    "\n",
    "Ví dụ:\n",
    "\n",
    "Với n = 5939 kết quả là True\n",
    "Với n = 26 kết quả là False\n",
    "Với n = 43 kết quả là False"
   ]
  },
  {
   "cell_type": "code",
   "execution_count": 67,
   "metadata": {
    "ExecuteTime": {
     "end_time": "2025-02-12T16:44:53.082943Z",
     "start_time": "2025-02-12T16:44:49.600509Z"
    }
   },
   "outputs": [
    {
     "name": "stdout",
     "output_type": "stream",
     "text": [
      "False\n"
     ]
    }
   ],
   "source": [
    "def is_prime(k):\n",
    "    if k < 2:\n",
    "        return False\n",
    "\n",
    "    for i in range(2, k):\n",
    "        if k % i == 0:\n",
    "            return False\n",
    "\n",
    "    return True\n",
    "\n",
    "\n",
    "def is_super_prime(k):\n",
    "    if not is_prime(k):\n",
    "        return False\n",
    "\n",
    "    while k > 0:\n",
    "        if not is_prime(k):\n",
    "            return False\n",
    "\n",
    "        k = k // 10\n",
    "\n",
    "    return True\n",
    "\n",
    "\n",
    "n = int(input())\n",
    "print(is_super_prime(n))"
   ]
  },
  {
   "cell_type": "markdown",
   "metadata": {},
   "source": [
    "Viết chương trình thực hiện việc nhập số nguyên n, liệt kê các số nguyên a, b, c trong đoạn [1, n] để bộ 3 (a, b, c) lập thành bộ Pitago.\n",
    "\n",
    "a, b, c được sắp theo thứ tự tăng dần (a <= b <= c), mỗi bộ trên 1 dòng theo mẫu \n",
    "\n",
    "(a, b, c)\n",
    "\n",
    "ví dụ n = 10 kết quả là "
   ]
  },
  {
   "cell_type": "code",
   "execution_count": 69,
   "metadata": {
    "ExecuteTime": {
     "end_time": "2025-02-12T16:45:34.401615Z",
     "start_time": "2025-02-12T16:45:20.459465Z"
    }
   },
   "outputs": [
    {
     "name": "stdout",
     "output_type": "stream",
     "text": [
      "(3, 4, 5)\n",
      "(5, 12, 13)\n",
      "(6, 8, 10)\n",
      "(7, 24, 25)\n",
      "(8, 15, 17)\n",
      "(9, 12, 15)\n",
      "(9, 40, 41)\n",
      "(10, 24, 26)\n",
      "(11, 60, 61)\n",
      "(12, 16, 20)\n",
      "(12, 35, 37)\n",
      "(13, 84, 85)\n",
      "(14, 48, 50)\n",
      "(15, 20, 25)\n",
      "(15, 36, 39)\n",
      "(15, 112, 113)\n",
      "(16, 30, 34)\n",
      "(16, 63, 65)\n",
      "(17, 144, 145)\n",
      "(18, 24, 30)\n",
      "(18, 80, 82)\n",
      "(19, 180, 181)\n",
      "(20, 21, 29)\n",
      "(20, 48, 52)\n",
      "(20, 99, 101)\n",
      "(21, 28, 35)\n",
      "(21, 72, 75)\n",
      "(21, 220, 221)\n",
      "(22, 120, 122)\n",
      "(23, 264, 265)\n",
      "(24, 32, 40)\n",
      "(24, 45, 51)\n",
      "(24, 70, 74)\n",
      "(24, 143, 145)\n",
      "(25, 60, 65)\n",
      "(25, 312, 313)\n",
      "(26, 168, 170)\n",
      "(27, 36, 45)\n",
      "(27, 120, 123)\n",
      "(27, 364, 365)\n",
      "(28, 45, 53)\n",
      "(28, 96, 100)\n",
      "(28, 195, 197)\n",
      "(29, 420, 421)\n",
      "(30, 40, 50)\n",
      "(30, 72, 78)\n",
      "(30, 224, 226)\n",
      "(31, 480, 481)\n",
      "(32, 60, 68)\n",
      "(32, 126, 130)\n",
      "(32, 255, 257)\n",
      "(33, 44, 55)\n",
      "(33, 56, 65)\n",
      "(33, 180, 183)\n",
      "(33, 544, 545)\n",
      "(34, 288, 290)\n",
      "(35, 84, 91)\n",
      "(35, 120, 125)\n",
      "(35, 612, 613)\n",
      "(36, 48, 60)\n",
      "(36, 77, 85)\n",
      "(36, 105, 111)\n",
      "(36, 160, 164)\n",
      "(36, 323, 325)\n",
      "(38, 360, 362)\n",
      "(39, 52, 65)\n",
      "(39, 80, 89)\n",
      "(39, 252, 255)\n",
      "(40, 42, 58)\n",
      "(40, 75, 85)\n",
      "(40, 96, 104)\n",
      "(40, 198, 202)\n",
      "(40, 399, 401)\n",
      "(42, 56, 70)\n",
      "(42, 144, 150)\n",
      "(42, 440, 442)\n",
      "(44, 117, 125)\n",
      "(44, 240, 244)\n",
      "(44, 483, 485)\n",
      "(45, 60, 75)\n",
      "(45, 108, 117)\n",
      "(45, 200, 205)\n",
      "(45, 336, 339)\n",
      "(46, 528, 530)\n",
      "(48, 55, 73)\n",
      "(48, 64, 80)\n",
      "(48, 90, 102)\n",
      "(48, 140, 148)\n",
      "(48, 189, 195)\n",
      "(48, 286, 290)\n",
      "(48, 575, 577)\n",
      "(49, 168, 175)\n",
      "(50, 120, 130)\n",
      "(50, 624, 626)\n",
      "(51, 68, 85)\n",
      "(51, 140, 149)\n",
      "(51, 432, 435)\n",
      "(52, 165, 173)\n",
      "(52, 336, 340)\n",
      "(54, 72, 90)\n",
      "(54, 240, 246)\n",
      "(55, 132, 143)\n",
      "(55, 300, 305)\n",
      "(56, 90, 106)\n",
      "(56, 105, 119)\n",
      "(56, 192, 200)\n",
      "(56, 390, 394)\n",
      "(57, 76, 95)\n",
      "(57, 176, 185)\n",
      "(57, 540, 543)\n",
      "(60, 63, 87)\n",
      "(60, 80, 100)\n",
      "(60, 91, 109)\n",
      "(60, 144, 156)\n",
      "(60, 175, 185)\n",
      "(60, 221, 229)\n",
      "(60, 297, 303)\n",
      "(60, 448, 452)\n",
      "(63, 84, 105)\n",
      "(63, 216, 225)\n",
      "(63, 280, 287)\n",
      "(64, 120, 136)\n",
      "(64, 252, 260)\n",
      "(64, 510, 514)\n",
      "(65, 72, 97)\n",
      "(65, 156, 169)\n",
      "(65, 420, 425)\n",
      "(66, 88, 110)\n",
      "(66, 112, 130)\n",
      "(66, 360, 366)\n",
      "(68, 285, 293)\n",
      "(68, 576, 580)\n",
      "(69, 92, 115)\n",
      "(69, 260, 269)\n",
      "(70, 168, 182)\n",
      "(70, 240, 250)\n",
      "(72, 96, 120)\n",
      "(72, 135, 153)\n",
      "(72, 154, 170)\n",
      "(72, 210, 222)\n",
      "(72, 320, 328)\n",
      "(72, 429, 435)\n",
      "(72, 646, 650)\n",
      "(75, 100, 125)\n",
      "(75, 180, 195)\n",
      "(75, 308, 317)\n",
      "(75, 560, 565)\n",
      "(76, 357, 365)\n",
      "(77, 264, 275)\n",
      "(77, 420, 427)\n",
      "(78, 104, 130)\n",
      "(78, 160, 178)\n",
      "(78, 504, 510)\n",
      "(80, 84, 116)\n",
      "(80, 150, 170)\n",
      "(80, 192, 208)\n",
      "(80, 315, 325)\n",
      "(80, 396, 404)\n",
      "(81, 108, 135)\n",
      "(81, 360, 369)\n",
      "(84, 112, 140)\n",
      "(84, 135, 159)\n",
      "(84, 187, 205)\n",
      "(84, 245, 259)\n",
      "(84, 288, 300)\n",
      "(84, 437, 445)\n",
      "(84, 585, 591)\n",
      "(85, 132, 157)\n",
      "(85, 204, 221)\n",
      "(87, 116, 145)\n",
      "(87, 416, 425)\n",
      "(88, 105, 137)\n",
      "(88, 165, 187)\n",
      "(88, 234, 250)\n",
      "(88, 480, 488)\n",
      "(90, 120, 150)\n",
      "(90, 216, 234)\n",
      "(90, 400, 410)\n",
      "(91, 312, 325)\n",
      "(91, 588, 595)\n",
      "(92, 525, 533)\n",
      "(93, 124, 155)\n",
      "(93, 476, 485)\n",
      "(95, 168, 193)\n",
      "(95, 228, 247)\n",
      "(96, 110, 146)\n",
      "(96, 128, 160)\n",
      "(96, 180, 204)\n",
      "(96, 247, 265)\n",
      "(96, 280, 296)\n",
      "(96, 378, 390)\n",
      "(96, 572, 580)\n",
      "(98, 336, 350)\n",
      "(99, 132, 165)\n",
      "(99, 168, 195)\n",
      "(99, 440, 451)\n",
      "(99, 540, 549)\n",
      "(100, 105, 145)\n",
      "(100, 240, 260)\n",
      "(100, 495, 505)\n",
      "(100, 621, 629)\n",
      "(102, 136, 170)\n",
      "(102, 280, 298)\n",
      "(104, 153, 185)\n",
      "(104, 195, 221)\n",
      "(104, 330, 346)\n",
      "(105, 140, 175)\n",
      "(105, 208, 233)\n",
      "(105, 252, 273)\n",
      "(105, 360, 375)\n",
      "(105, 608, 617)\n",
      "(108, 144, 180)\n",
      "(108, 231, 255)\n",
      "(108, 315, 333)\n",
      "(108, 480, 492)\n",
      "(110, 264, 286)\n",
      "(110, 600, 610)\n",
      "(111, 148, 185)\n",
      "(112, 180, 212)\n",
      "(112, 210, 238)\n",
      "(112, 384, 400)\n",
      "(112, 441, 455)\n",
      "(114, 152, 190)\n",
      "(114, 352, 370)\n",
      "(115, 252, 277)\n",
      "(115, 276, 299)\n",
      "(117, 156, 195)\n",
      "(117, 240, 267)\n",
      "(117, 520, 533)\n",
      "(119, 120, 169)\n",
      "(119, 408, 425)\n",
      "(120, 126, 174)\n",
      "(120, 160, 200)\n",
      "(120, 182, 218)\n",
      "(120, 209, 241)\n",
      "(120, 225, 255)\n",
      "(120, 288, 312)\n",
      "(120, 350, 370)\n",
      "(120, 391, 409)\n",
      "(120, 442, 458)\n",
      "(120, 594, 606)\n",
      "(123, 164, 205)\n",
      "(125, 300, 325)\n",
      "(126, 168, 210)\n",
      "(126, 432, 450)\n",
      "(126, 560, 574)\n",
      "(128, 240, 272)\n",
      "(128, 504, 520)\n",
      "(129, 172, 215)\n",
      "(130, 144, 194)\n",
      "(130, 312, 338)\n",
      "(132, 176, 220)\n",
      "(132, 224, 260)\n",
      "(132, 351, 375)\n",
      "(132, 385, 407)\n",
      "(132, 475, 493)\n",
      "(133, 156, 205)\n",
      "(133, 456, 475)\n",
      "(135, 180, 225)\n",
      "(135, 324, 351)\n",
      "(135, 352, 377)\n",
      "(135, 600, 615)\n",
      "(136, 255, 289)\n",
      "(136, 273, 305)\n",
      "(136, 570, 586)\n",
      "(138, 184, 230)\n",
      "(138, 520, 538)\n",
      "(140, 147, 203)\n",
      "(140, 171, 221)\n",
      "(140, 225, 265)\n",
      "(140, 336, 364)\n",
      "(140, 480, 500)\n",
      "(141, 188, 235)\n",
      "(144, 165, 219)\n",
      "(144, 192, 240)\n",
      "(144, 270, 306)\n",
      "(144, 308, 340)\n",
      "(144, 420, 444)\n",
      "(144, 567, 585)\n",
      "(145, 348, 377)\n",
      "(145, 408, 433)\n",
      "(147, 196, 245)\n",
      "(147, 504, 525)\n",
      "(150, 200, 250)\n",
      "(150, 360, 390)\n",
      "(150, 616, 634)\n",
      "(152, 285, 323)\n",
      "(152, 345, 377)\n",
      "(153, 204, 255)\n",
      "(153, 420, 447)\n",
      "(154, 528, 550)\n",
      "(155, 372, 403)\n",
      "(155, 468, 493)\n",
      "(156, 208, 260)\n",
      "(156, 320, 356)\n",
      "(156, 455, 481)\n",
      "(156, 495, 519)\n",
      "(159, 212, 265)\n",
      "(160, 168, 232)\n",
      "(160, 231, 281)\n",
      "(160, 300, 340)\n",
      "(160, 384, 416)\n",
      "(160, 630, 650)\n",
      "(161, 240, 289)\n",
      "(161, 552, 575)\n",
      "(162, 216, 270)\n",
      "(165, 220, 275)\n",
      "(165, 280, 325)\n",
      "(165, 396, 429)\n",
      "(165, 532, 557)\n",
      "(168, 224, 280)\n",
      "(168, 270, 318)\n",
      "(168, 315, 357)\n",
      "(168, 374, 410)\n",
      "(168, 425, 457)\n",
      "(168, 490, 518)\n",
      "(168, 576, 600)\n",
      "(170, 264, 314)\n",
      "(170, 408, 442)\n",
      "(171, 228, 285)\n",
      "(171, 528, 555)\n",
      "(174, 232, 290)\n",
      "(175, 288, 337)\n",
      "(175, 420, 455)\n",
      "(175, 600, 625)\n",
      "(176, 210, 274)\n",
      "(176, 330, 374)\n",
      "(176, 468, 500)\n",
      "(177, 236, 295)\n",
      "(180, 189, 261)\n",
      "(180, 240, 300)\n",
      "(180, 273, 327)\n",
      "(180, 299, 349)\n",
      "(180, 385, 425)\n",
      "(180, 432, 468)\n",
      "(180, 525, 555)\n",
      "(182, 624, 650)\n",
      "(183, 244, 305)\n",
      "(184, 345, 391)\n",
      "(184, 513, 545)\n",
      "(185, 444, 481)\n",
      "(186, 248, 310)\n",
      "(189, 252, 315)\n",
      "(189, 340, 389)\n",
      "(190, 336, 386)\n",
      "(190, 456, 494)\n",
      "(192, 220, 292)\n",
      "(192, 256, 320)\n",
      "(192, 360, 408)\n",
      "(192, 494, 530)\n",
      "(192, 560, 592)\n",
      "(195, 216, 291)\n",
      "(195, 260, 325)\n",
      "(195, 400, 445)\n",
      "(195, 468, 507)\n",
      "(196, 315, 371)\n",
      "(198, 264, 330)\n",
      "(198, 336, 390)\n",
      "(200, 210, 290)\n",
      "(200, 375, 425)\n",
      "(200, 480, 520)\n",
      "(200, 609, 641)\n",
      "(201, 268, 335)\n",
      "(203, 396, 445)\n",
      "(204, 253, 325)\n",
      "(204, 272, 340)\n",
      "(204, 560, 596)\n",
      "(204, 595, 629)\n",
      "(205, 492, 533)\n",
      "(207, 224, 305)\n",
      "(207, 276, 345)\n",
      "(208, 306, 370)\n",
      "(208, 390, 442)\n",
      "(210, 280, 350)\n",
      "(210, 416, 466)\n",
      "(210, 504, 546)\n",
      "(213, 284, 355)\n",
      "(215, 516, 559)\n",
      "(216, 288, 360)\n",
      "(216, 405, 459)\n",
      "(216, 462, 510)\n",
      "(217, 456, 505)\n",
      "(219, 292, 365)\n",
      "(220, 231, 319)\n",
      "(220, 459, 509)\n",
      "(220, 528, 572)\n",
      "(220, 585, 625)\n",
      "(222, 296, 370)\n",
      "(224, 360, 424)\n",
      "(224, 420, 476)\n",
      "(225, 272, 353)\n",
      "(225, 300, 375)\n",
      "(225, 540, 585)\n",
      "(228, 304, 380)\n",
      "(228, 325, 397)\n",
      "(230, 504, 554)\n",
      "(230, 552, 598)\n",
      "(231, 308, 385)\n",
      "(231, 392, 455)\n",
      "(231, 520, 569)\n",
      "(232, 435, 493)\n",
      "(234, 312, 390)\n",
      "(234, 480, 534)\n",
      "(235, 564, 611)\n",
      "(237, 316, 395)\n",
      "(238, 240, 338)\n",
      "(240, 252, 348)\n",
      "(240, 275, 365)\n",
      "(240, 320, 400)\n",
      "(240, 364, 436)\n",
      "(240, 418, 482)\n",
      "(240, 450, 510)\n",
      "(240, 551, 601)\n",
      "(240, 576, 624)\n",
      "(243, 324, 405)\n",
      "(245, 588, 637)\n",
      "(246, 328, 410)\n",
      "(248, 465, 527)\n",
      "(249, 332, 415)\n",
      "(250, 600, 650)\n",
      "(252, 275, 373)\n",
      "(252, 336, 420)\n",
      "(252, 405, 477)\n",
      "(252, 539, 595)\n",
      "(252, 561, 615)\n",
      "(255, 340, 425)\n",
      "(255, 396, 471)\n",
      "(256, 480, 544)\n",
      "(258, 344, 430)\n",
      "(260, 273, 377)\n",
      "(260, 288, 388)\n",
      "(261, 348, 435)\n",
      "(261, 380, 461)\n",
      "(264, 315, 411)\n",
      "(264, 352, 440)\n",
      "(264, 448, 520)\n",
      "(264, 495, 561)\n",
      "(266, 312, 410)\n",
      "(267, 356, 445)\n",
      "(270, 360, 450)\n",
      "(272, 510, 578)\n",
      "(272, 546, 610)\n",
      "(273, 364, 455)\n",
      "(273, 560, 623)\n",
      "(276, 368, 460)\n",
      "(276, 493, 565)\n",
      "(279, 372, 465)\n",
      "(279, 440, 521)\n",
      "(280, 294, 406)\n",
      "(280, 342, 442)\n",
      "(280, 351, 449)\n",
      "(280, 450, 530)\n",
      "(280, 525, 595)\n",
      "(282, 376, 470)\n",
      "(285, 380, 475)\n",
      "(285, 504, 579)\n",
      "(288, 330, 438)\n",
      "(288, 384, 480)\n",
      "(288, 540, 612)\n",
      "(291, 388, 485)\n",
      "(294, 392, 490)\n",
      "(296, 555, 629)\n",
      "(297, 304, 425)\n",
      "(297, 396, 495)\n",
      "(297, 504, 585)\n",
      "(300, 315, 435)\n",
      "(300, 400, 500)\n",
      "(300, 455, 545)\n",
      "(303, 404, 505)\n",
      "(304, 570, 646)\n",
      "(306, 408, 510)\n",
      "(308, 435, 533)\n",
      "(308, 495, 583)\n",
      "(309, 412, 515)\n",
      "(312, 416, 520)\n",
      "(312, 459, 555)\n",
      "(315, 420, 525)\n",
      "(315, 572, 653)\n",
      "(318, 424, 530)\n",
      "(319, 360, 481)\n",
      "(320, 336, 464)\n",
      "(320, 462, 562)\n",
      "(321, 428, 535)\n",
      "(322, 480, 578)\n",
      "(324, 432, 540)\n",
      "(325, 360, 485)\n",
      "(327, 436, 545)\n",
      "(330, 440, 550)\n",
      "(330, 560, 650)\n",
      "(333, 444, 555)\n",
      "(336, 377, 505)\n",
      "(336, 385, 511)\n",
      "(336, 448, 560)\n",
      "(336, 527, 625)\n",
      "(336, 540, 636)\n",
      "(339, 452, 565)\n",
      "(340, 357, 493)\n",
      "(340, 528, 628)\n",
      "(341, 420, 541)\n",
      "(342, 456, 570)\n",
      "(345, 460, 575)\n",
      "(348, 464, 580)\n",
      "(351, 468, 585)\n",
      "(352, 420, 548)\n",
      "(354, 472, 590)\n",
      "(357, 360, 507)\n",
      "(357, 476, 595)\n",
      "(360, 378, 522)\n",
      "(360, 480, 600)\n",
      "(363, 484, 605)\n",
      "(366, 488, 610)\n",
      "(368, 465, 593)\n",
      "(369, 492, 615)\n",
      "(372, 496, 620)\n",
      "(375, 500, 625)\n",
      "(378, 504, 630)\n",
      "(380, 399, 551)\n",
      "(381, 508, 635)\n",
      "(384, 440, 584)\n",
      "(384, 512, 640)\n",
      "(387, 516, 645)\n",
      "(390, 432, 582)\n",
      "(390, 520, 650)\n",
      "(396, 403, 565)\n",
      "(399, 468, 615)\n",
      "(400, 420, 580)\n",
      "(408, 506, 650)\n",
      "(414, 448, 610)\n",
      "(420, 441, 609)\n",
      "(429, 460, 629)\n",
      "(440, 462, 638)\n"
     ]
    }
   ],
   "source": [
    "def is_Pitago(a, b, c):\n",
    "    if a + b > c and b + c > a and a + c > b:\n",
    "        if a ** 2 + b ** 2 == c ** 2:\n",
    "            return True\n",
    "        elif a ** 2 == b ** 2 + c ** 2:\n",
    "            return True\n",
    "        elif a ** 2 + c ** 2 == b ** 2:\n",
    "            return True\n",
    "        return False\n",
    "    else:\n",
    "        return False\n",
    "\n",
    "\n",
    "n = int(input())\n",
    "for a in range(1, n + 1):\n",
    "    for b in range(a + 1, n + 1):\n",
    "        for c in range(b + 1, n + 1):\n",
    "            if is_Pitago(a, b, c):\n",
    "                print(f\"({a}, {b}, {c})\")"
   ]
  },
  {
   "cell_type": "markdown",
   "metadata": {},
   "source": [
    "Viết chương trình cho phép nhập một số nguyên n từ bàn phím\n",
    "\n",
    "tính và in ra kết quả của biểu thức n + nn + nnn + nnnn\n",
    "\n",
    "Ví dụ n = 5, kết quả là 5 + 55 + 555 + 5555 = 6170\n",
    "\n",
    "\n",
    "\n",
    "Chú ý: n có thể là số tự nhiên bất kỳ"
   ]
  },
  {
   "cell_type": "code",
   "execution_count": 70,
   "metadata": {
    "ExecuteTime": {
     "end_time": "2025-02-12T16:45:43.721095Z",
     "start_time": "2025-02-12T16:45:37.338311Z"
    }
   },
   "outputs": [
    {
     "name": "stdout",
     "output_type": "stream",
     "text": [
      "3702\n"
     ]
    }
   ],
   "source": [
    "n = int(input())\n",
    "\n",
    "nn = int(str(n) + str(n))\n",
    "nnn = int(str(n) + str(n) + str(n))\n",
    "nnnn = int(str(n) + str(n) + str(n) + str(n))\n",
    "\n",
    "result = n + nn + nnn + nnnn\n",
    "\n",
    "print(result)"
   ]
  },
  {
   "cell_type": "code",
   "execution_count": 17,
   "metadata": {},
   "outputs": [
    {
     "name": "stdout",
     "output_type": "stream",
     "text": [
      "6\n"
     ]
    }
   ],
   "source": [
    "n = int(input())\n",
    "\n",
    "def ndigital(n):\n",
    "    if n <=0:\n",
    "        return 1\n",
    "    \n",
    "    count = 0\n",
    "    while n > 0:\n",
    "        n = n // 10\n",
    "        count += 1\n",
    "        \n",
    "    return count\n",
    "\n",
    "def compute(n):\n",
    "    total = n \n",
    "    f = n\n",
    "    for i in range(2, 5):\n",
    "        f =  f * 10 **(ndigital(n)) + n\n",
    "        total += f\n",
    "        \n",
    "    return total\n",
    "\n",
    "print(compute(n))"
   ]
  },
  {
   "cell_type": "markdown",
   "metadata": {},
   "source": [
    "Hoàn thiện hàm is_palindrome(p), hàm này thực hiện kiểm tra số nguyên p có phải là số đối xứng hay không, nếu có thì trả lại giá trị True, và ngược lại thì trả lại giá trị False."
   ]
  },
  {
   "cell_type": "code",
   "execution_count": 71,
   "metadata": {
    "ExecuteTime": {
     "end_time": "2025-02-12T16:45:46.881439Z",
     "start_time": "2025-02-12T16:45:46.877068Z"
    }
   },
   "outputs": [],
   "source": [
    "#Hoàn thiện hàm is_palindrome(p), hàm này thực hiện kiểm tra số nguyên p có phải là số đối xứng hay không, nếu có thì trả lại giá trị True, và ngược lại thì trả lại giá trị False.\n",
    "\n",
    "def is_palindrome(p):\n",
    "    a = p\n",
    "    b = 0\n",
    "    while p > 0:\n",
    "        n = p % 10\n",
    "        b = b * 10 + n\n",
    "        p //= 10\n",
    "    return a == b\n",
    "\n"
   ]
  },
  {
   "cell_type": "markdown",
   "metadata": {},
   "source": [
    "Hoàn thiện các phương thức trong file Fraction.py theo các mô tả sau:\n",
    "\n",
    "Hàm is_minimalist_fraction(numerator, denominator) kiểm tra phân số gồm tử số là numerator, và mẫu số là denominator có phải phân số tối giản hay không?\n",
    "\n",
    "Hàm get_minimalist_fraction(numerator, denominator) thực hiện tính và trả lại phân số tối giản của phân số đầu vào (phân số được trả lại là 2 giá trị tương ứng là tử số và mẫu số)\n",
    "\n",
    "bạn có thể dùng hàm gcd(u, v) trong module math để tìm ước chung lớn nhất của 2 số  u, v.\n",
    "\n"
   ]
  },
  {
   "cell_type": "code",
   "execution_count": 72,
   "metadata": {
    "ExecuteTime": {
     "end_time": "2025-02-12T16:45:50.878951Z",
     "start_time": "2025-02-12T16:45:50.874722Z"
    }
   },
   "outputs": [],
   "source": [
    "#Hoàn thiện các phương thức trong file Fraction.py theo các mô tả sau:\n",
    "\n",
    "#Hàm is_minimalist_fraction(numerator, denominator) kiểm tra phân số gồm tử số là numerator, và mẫu số là denominator có phải phân số tối giản hay không nếu đúng trả lại giá trị là True, ngược lại trả lại giá trị là False?\n",
    "\n",
    "import math\n",
    "\n",
    "\n",
    "def is_minimalist_fraction(numerator, denominator):\n",
    "    return math.gcd(numerator, denominator) == 1\n",
    "\n",
    "\n",
    "#Hàm get_minimalist_fraction(numerator, denominator) thực hiện tính và trả lại phân số tối giản của phân số đầu vào (phân số được trả lại là 2 giá trị tương ứng là tử số và mẫu số)\n",
    "\n",
    "def get_minimalist_fraction(numerator, denominator):\n",
    "    GCD = math.gcd(numerator, denominator)\n",
    "\n",
    "    numerator = numerator / GCD\n",
    "    denominator = denominator / GCD\n",
    "\n",
    "    return int(numerator), int(denominator)\n"
   ]
  },
  {
   "cell_type": "code",
   "execution_count": 73,
   "metadata": {
    "ExecuteTime": {
     "end_time": "2025-02-12T16:45:52.616509Z",
     "start_time": "2025-02-12T16:45:52.608701Z"
    }
   },
   "outputs": [
    {
     "name": "stdout",
     "output_type": "stream",
     "text": [
      "False\n",
      "(1.0, 3.0)\n"
     ]
    }
   ],
   "source": [
    "a = 3\n",
    "b = 9\n",
    "print(is_minimalist_fraction(a, b))\n",
    "print(get_minimalist_fraction(a, b))"
   ]
  },
  {
   "cell_type": "markdown",
   "metadata": {},
   "source": [
    "Hàm f(x) liên tục trên đoạn [a, b] và có f(a)*f(b) < 0 thì tồn tại giá trị c thuộc [a, b] sao cho f(c) =0.\n",
    "\n",
    "Hoàn thiện hàm solver(f, a, b, e=0.00001) để tìm nghiệm xấp xỉ của phương trình f(x) = 0.\n",
    "\n",
    "trong các đối số có f là 1 hàm, khi đó lời gọi hàm f(t) sẽ trả lại giá trị của hàm f tại điểm t.\n",
    "\n",
    "nghiệm cần tìm là giá trị c sao cho |f(c)| <= e. Dùng hàm abs trong module math để tính giá trị tuyệt đối.\n",
    "\n",
    "Áp dụng phương pháp chia đôi để tìm nghiệm gần đúng của phương trình."
   ]
  },
  {
   "cell_type": "code",
   "execution_count": 74,
   "metadata": {
    "ExecuteTime": {
     "end_time": "2025-02-12T16:45:54.920724Z",
     "start_time": "2025-02-12T16:45:54.914347Z"
    }
   },
   "outputs": [
    {
     "ename": "SyntaxError",
     "evalue": "incomplete input (2734588849.py, line 5)",
     "output_type": "error",
     "traceback": [
      "\u001b[1;36m  Cell \u001b[1;32mIn[74], line 5\u001b[1;36m\u001b[0m\n\u001b[1;33m    \u001b[0m\n\u001b[1;37m    ^\u001b[0m\n\u001b[1;31mSyntaxError\u001b[0m\u001b[1;31m:\u001b[0m incomplete input\n"
     ]
    }
   ],
   "source": [
    "\n",
    "# giải phương trình f(x) = 0, tìm nghiệm xấp xỉ c theo phương pháp chia đôi.\n",
    "def solver(f, a, b, e=0.000001): # f(c) < abs(e)\n",
    "    # chac chan f(a) < 0 vaf f(b) > 0 thi moi lam ddc\n",
    "    \n",
    "    m = (a + b) / 2\n",
    "    \n",
    "    while a < m and m < b and a != b:\n",
    "        if abs(f(m)) < e:\n",
    "            return m\n",
    "        else:\n",
    "            if f(m ) > 0:\n",
    "                 b =m \n",
    "                 m = (a+b)/2\n",
    "            else: \n",
    "                a = m \n",
    "                m = (a+b)/2\n",
    "                \n",
    "                \n",
    "    return m \n"
   ]
  },
  {
   "cell_type": "markdown",
   "metadata": {},
   "source": [
    "Tính sin cos theo khai triển Taylor\n",
    "\n",
    "\n",
    "Chú ý: Điều kiện dừng: (x^n)/n! = 0."
   ]
  },
  {
   "cell_type": "code",
   "execution_count": 75,
   "metadata": {
    "ExecuteTime": {
     "end_time": "2025-02-12T16:45:57.925013Z",
     "start_time": "2025-02-12T16:45:57.919616Z"
    }
   },
   "outputs": [],
   "source": [
    "import math\n",
    "\n",
    "\n",
    "def sin(x, n):\n",
    "    result = 0\n",
    "    for i in range(n):\n",
    "        term = ((-1) ** i) * (x ** (2 * i + 1)) / math.factorial(2 * i + 1)  # (-1)^i * x^(2i+1) / (2i+1)!\n",
    "        result += term\n",
    "    return result\n",
    "\n",
    "\n",
    "def cos(x, n):\n",
    "    result = 0\n",
    "    for i in range(n):\n",
    "        term = ((-1) ** i) * (x ** (2 * i)) / math.factorial(2 * i)  # (-1)^i * x^(2i) / (2i)!\n",
    "        result += term\n",
    "    return result"
   ]
  },
  {
   "cell_type": "code",
   "execution_count": 76,
   "metadata": {
    "ExecuteTime": {
     "end_time": "2025-02-12T16:46:04.702707Z",
     "start_time": "2025-02-12T16:46:04.699613Z"
    }
   },
   "outputs": [
    {
     "name": "stdout",
     "output_type": "stream",
     "text": [
      "0.479425538604203\n",
      "0.8775825618903728\n"
     ]
    }
   ],
   "source": [
    "print(sin(0.5, 10))\n",
    "print(cos(0.5, 10))"
   ]
  },
  {
   "cell_type": "markdown",
   "metadata": {},
   "source": [
    "Tính căn bậc hai theo phương pháp Newton:\n",
    "Để tính căn bậc hai của một số dương t, hãy bắt đầu với ước tính t = c. Nếu t = c/t thì t bằng căn bậc hai của c. Nếu không, hãy tinh chỉnh ước tính bằng cách thay thế t bằng giá trị trung bình của t và c/t và lặp lại cho tới khi nhận được kết quả có độ chính xác tới 15 chữ số sau dấu phẩy.\n",
    "Chú ý: Điều kiện dừng là abs(t - c/t) < (EPSILON * t). Với EPSILON = 10E-15."
   ]
  },
  {
   "cell_type": "code",
   "execution_count": 93,
   "metadata": {
    "ExecuteTime": {
     "end_time": "2025-02-12T17:00:24.238502Z",
     "start_time": "2025-02-12T17:00:24.234486Z"
    }
   },
   "outputs": [],
   "source": [
    "def sqrt_newton(c):\n",
    "    EPSILON = 10E-15\n",
    "    t = c\n",
    "    while abs(t - c / t) > EPSILON * t:\n",
    "        t = (c / t + t) / 2\n",
    "    return round(t, 15)\n",
    "\n",
    "def sqrt_newton(c):\n",
    "    EPSILON = 1e-15\n",
    "\n",
    "    return 0"
   ]
  },
  {
   "cell_type": "code",
   "execution_count": 95,
   "metadata": {
    "ExecuteTime": {
     "end_time": "2025-02-12T17:01:51.108166Z",
     "start_time": "2025-02-12T17:01:51.103923Z"
    }
   },
   "outputs": [
    {
     "name": "stdout",
     "output_type": "stream",
     "text": [
      "1.414213562373095\n"
     ]
    }
   ],
   "source": [
    "print(sqrt(2))\n"
   ]
  },
  {
   "cell_type": "markdown",
   "metadata": {},
   "source": [
    "Vay ngân hàng số tiền là A đồng với lãi suất r%/tháng. Sau đúng một tháng kể từ ngày vay, bắt đầu hoàn nợ; hai lần hoàn nợ cách nhau đúng một tháng, mỗi hoàn nợ số tiền là X đồng và trả hết tiền nợ sau đúng n tháng.\n",
    "Hãy hoàn thiện phương thức loan(A, r, n) với A, r, n là tham số truyền vào cho trước để tính số tiền cần hoàn nợ X.\n",
    "\n",
    "Dưới đây là cách tính tiền hoàn nợ:\n",
    "\n",
    "\n",
    "\n",
    "* Chú ý:\n",
    "Ví dụ:\n",
    "Đầu vào cho trước: \n",
    "A= 3786784723\n",
    "\n",
    "r = 0.12\n",
    "\n",
    "n = 6\n",
    "\n",
    "\n",
    "Đầu ra:\n",
    "Vay: 3,786,784,723.00 Đồng\n",
    "Lãi suất: 12.00%/tháng\n",
    "Trong: 6.00 tháng\n",
    "Mỗi tháng cần trả:  921,043,434.771 Đồng\n",
    "\n",
    "**Mỗi thông tin được in trên một dòng; các mục Vay, Lãi suất, số Tháng thì được lấy 2 chữ số sau dấu phẩy, mục Trả góp lấy 3 chữ số sau dấu phẩy.\n",
    "\n",
    "- Để in có định dạng dấu phẩy phân cách hàng nghìn có thể dùng phương thức format của lớp String (str)\n",
    "\n",
    "Ví du: print(\"{:,.3f}\".format(56789)) \n",
    "\n",
    "kết quả in ra là: 56,789.000  "
   ]
  },
  {
   "cell_type": "code",
   "execution_count": 98,
   "metadata": {
    "ExecuteTime": {
     "end_time": "2025-02-12T17:12:43.108958Z",
     "start_time": "2025-02-12T17:12:43.104447Z"
    }
   },
   "outputs": [],
   "source": [
    "def loan(A, r, n):\n",
    "    print(f\"Vay: {A:,.2f} Đồng\")\n",
    "    a = r*100\n",
    "    print(f\"Lãi suất:  {a:,.2f}%/tháng\")\n",
    "\n",
    "    X = (A*r*(1+r)**n)/((1+r)**n -1 ) # X = A*r*(1+r)^n/((1+r)^n-1)\n",
    "    print(f\"Trong: {n:,.2f} tháng\")\n",
    "    print(f\"Mỗi tháng cần trả: {X:,.3f} Đồng\")\n"
   ]
  },
  {
   "cell_type": "code",
   "execution_count": 99,
   "metadata": {
    "ExecuteTime": {
     "end_time": "2025-02-12T17:12:45.754161Z",
     "start_time": "2025-02-12T17:12:45.749800Z"
    }
   },
   "outputs": [
    {
     "name": "stdout",
     "output_type": "stream",
     "text": [
      "Vay: 3,786,784,723.00 Đồng\n",
      "Lãi suất: 0.12/tháng\n",
      "Trong 6.00 tháng moi tháng cần trả: 921,043,434.771 Đồng\n"
     ]
    }
   ],
   "source": [
    "loan(3786784723, 0.12, 6)"
   ]
  },
  {
   "cell_type": "markdown",
   "metadata": {},
   "source": [
    "Sinh viên hoàn thiện phương thức parse  nhận n là tham số đầu vào cho phép phân tích 1 số nguyên dương thành tích các thừa số nguyên tố.\n",
    "\n",
    "Gợi ý:\n",
    "\n",
    "Chia số n cho các số i từ 2 -> n đến khi nào không thể chia được nữa. \n",
    "\n",
    "Từ đó ta nhận thấy là các số phía sau i thì n không bao giờ chia hết nếu nó là bội của i mà chỉ có thể chia hết cho các số khác i chưa được kiểm tra, mà các số chưa kiểm tra đó chính là các số nguyên tố. Do vậy chúng ta sẽ không cần kiểm tra các số có là số nguyên tố hay không.\n",
    "\n",
    "Ví dụ với n =  18.\n",
    "\n",
    "i = 2  (18%2 ==0) lấy 18/2 = 9, (9%2  != 0 ) do đó tăng i lên 1\n",
    "\n",
    "i = 3 (9%3 == 0) lấy 9/3 = 3, (3%3 = 0) lấy 3/3 = 1 kết thúc\n",
    "\n",
    "vậy kết quả được phép phân tích là 18 = 2 x 3 x 3\n",
    "\n",
    "\n",
    "Vd:\n",
    "Input: 15\n",
    "Output: 15 = 3 x 5"
   ]
  },
  {
   "cell_type": "code",
   "execution_count": 83,
   "metadata": {
    "ExecuteTime": {
     "end_time": "2025-02-12T16:48:09.711495Z",
     "start_time": "2025-02-12T16:48:09.707603Z"
    }
   },
   "outputs": [],
   "source": [
    "def parse(n):\n",
    "    result = f\"{n} = \"\n",
    "    i = 2\n",
    "    while n > 1:\n",
    "        if n % i == 0:\n",
    "            result += str(i)\n",
    "            n = n // i\n",
    "            if n > 1:\n",
    "                result += \" x \"\n",
    "        else:\n",
    "            i += 1\n",
    "    print(result)\n",
    "    return "
   ]
  },
  {
   "cell_type": "code",
   "execution_count": 84,
   "metadata": {
    "ExecuteTime": {
     "end_time": "2025-02-12T16:48:11.635984Z",
     "start_time": "2025-02-12T16:48:11.631979Z"
    }
   },
   "outputs": [
    {
     "name": "stdout",
     "output_type": "stream",
     "text": [
      "15 = 3 x 5\n"
     ]
    }
   ],
   "source": [
    "n = 15\n",
    "print(parse(n))"
   ]
  },
  {
   "cell_type": "markdown",
   "metadata": {},
   "source": [
    "Sinh viên hoàn thiện hàm convert trong file ToBinary.py, hàm này nhận vào đối số n là một số nguyên hệ cơ số 10 và trả về chuỗi dạng nhị phân của n.\n",
    "Sử dụng phép chuyển đổi số dạng thập phân sang nhị phân bằng phép chia với 2.\n",
    "\n",
    "Ví dụ:\n",
    "input = 11\n",
    "output = 1011"
   ]
  },
  {
   "cell_type": "code",
   "execution_count": 87,
   "metadata": {
    "ExecuteTime": {
     "end_time": "2025-02-12T16:48:25.112362Z",
     "start_time": "2025-02-12T16:48:25.108762Z"
    }
   },
   "outputs": [],
   "source": [
    "def convert(n):\n",
    "    result = \"\"\n",
    "    while n > 0:\n",
    "        result = str(n % 2) + result\n",
    "        n = n // 2\n",
    "\n",
    "    return result\n",
    "\n",
    "\n",
    "def convert(n):\n",
    "    result = \"\"\n",
    "    while n > 0:\n",
    "        remainder = n % 2\n",
    "        n = n // 2\n",
    "\n",
    "        result += str(remainder)\n",
    "    result_s = result[::-1]\n",
    "    return result_s\n",
    "\n"
   ]
  },
  {
   "cell_type": "code",
   "execution_count": 88,
   "metadata": {
    "ExecuteTime": {
     "end_time": "2025-02-12T16:48:27.665428Z",
     "start_time": "2025-02-12T16:48:27.662060Z"
    }
   },
   "outputs": [
    {
     "name": "stdout",
     "output_type": "stream",
     "text": [
      "11010\n"
     ]
    }
   ],
   "source": [
    "n = 26\n",
    "print(convert(n))"
   ]
  },
  {
   "cell_type": "markdown",
   "metadata": {},
   "source": [
    "Sinh viên hoàn thiện phương thức convert với n là tham số cho trước để thực hiện chuyển đổi số dạng nhị phân sang thập phân.\n",
    "Xét ví dụ:\n",
    "\n",
    "\n",
    "Chú ý: Kiểu dữ liệu đầu vào là xâu chuỗi.\n",
    "Ví dụ:\n",
    "input: n = \"00001\"\n",
    "output: 1"
   ]
  },
  {
   "cell_type": "code",
   "execution_count": 21,
   "metadata": {
    "ExecuteTime": {
     "end_time": "2025-02-12T16:48:19.586797Z",
     "start_time": "2025-02-12T16:48:19.582798Z"
    }
   },
   "outputs": [],
   "source": [
    "def convert(n):\n",
    "    n = n.strip().replace(\" \",\"\")\n",
    "    result = 0\n",
    "    for i in range(len(n)):\n",
    "        c = n[i]\n",
    "        term = int(c) * (2 ** (len(n) - i - 1))\n",
    "        result += term\n",
    "\n",
    "    return result"
   ]
  },
  {
   "cell_type": "code",
   "execution_count": 22,
   "metadata": {
    "ExecuteTime": {
     "end_time": "2025-02-12T16:48:20.964277Z",
     "start_time": "2025-02-12T16:48:20.960423Z"
    }
   },
   "outputs": [
    {
     "name": "stdout",
     "output_type": "stream",
     "text": [
      "19\n"
     ]
    }
   ],
   "source": [
    "n = \"010011\"\n",
    "print(convert(n))"
   ]
  },
  {
   "cell_type": "code",
   "execution_count": 20,
   "metadata": {},
   "outputs": [
    {
     "name": "stdout",
     "output_type": "stream",
     "text": [
      "<class 'int'>\n",
      "<class 'int'>\n",
      "<class 'int'>\n",
      "<class 'int'>\n",
      "<class 'int'>\n",
      "<class 'int'>\n",
      "<class 'int'>\n",
      "<class 'int'>\n",
      "<class 'int'>\n",
      "<class 'int'>\n",
      "<class 'int'>\n",
      "<class 'int'>\n"
     ]
    }
   ],
   "source": [
    "n = \"010011\"\n",
    "\n",
    "for cha in range(len(n)):\n",
    "    c = int(n[cha])\n",
    "    print(type(cha))\n",
    "    print(type(c))"
   ]
  },
  {
   "cell_type": "markdown",
   "metadata": {},
   "source": [
    "Sinh viên hoàn thiện phương thức add(a, b) với a, b là tham số truyền vào cho trước để thực hiện phép cộng nhị phân.\n",
    "Xét ví dụ dưới đây:\n",
    "\n",
    "\n",
    "Chú ý: Kiểu dữ liệu đầu vào là xâu chuỗi: Ví dụ \"0001\""
   ]
  },
  {
   "cell_type": "code",
   "execution_count": null,
   "metadata": {},
   "outputs": [],
   "source": [
    "def add(a, b):\n"
   ]
  },
  {
   "cell_type": "markdown",
   "metadata": {},
   "source": [
    "Hoàn thiện các hàm được cung cấp để in ra màn hình 1 mẫu hình tam giác tương ứng. Các hàm nhận vào số nguyên n là kích cỡ của hình tam giác. Cụ thể mẫu hình tam giác cần in ra của mỗi hàm như sau:"
   ]
  },
  {
   "cell_type": "code",
   "execution_count": 32,
   "metadata": {},
   "outputs": [],
   "source": [
    "def leftHalfPyramid(n):\n",
    "    for i in range(1, n+1):\n",
    "        print(\"*\"*i)\n",
    "        \n",
    "\n",
    "def rightHalfPyramid(n):\n",
    "    for i in range(1, n+1):\n",
    "        print(\" \"*(n -i) + \"*\" *i)\n",
    "\n",
    "def fullPyramid(n):\n",
    "    for i in range(1, n +1 ):\n",
    "        print(\" \" * (n  - i) + \"*\" * (i +1) + \" \" * (n - i))\n",
    "\n",
    "def invertedFullPyramid(n):\n",
    "   pass\n",
    "\n",
    "def hollowPyramid(n):\n",
    "    pass\n"
   ]
  },
  {
   "cell_type": "code",
   "execution_count": 33,
   "metadata": {},
   "outputs": [
    {
     "name": "stdout",
     "output_type": "stream",
     "text": [
      "*\n",
      "**\n",
      "***\n",
      "****\n",
      "*****\n",
      "    *\n",
      "   **\n",
      "  ***\n",
      " ****\n",
      "*****\n",
      "    **    \n",
      "   ***   \n",
      "  ****  \n",
      " ***** \n",
      "******\n"
     ]
    }
   ],
   "source": [
    "leftHalfPyramid(5)\n",
    "rightHalfPyramid(5)\n",
    "fullPyramid(5)"
   ]
  }
 ],
 "metadata": {
  "kernelspec": {
   "display_name": "Python 3",
   "language": "python",
   "name": "python3"
  },
  "language_info": {
   "codemirror_mode": {
    "name": "ipython",
    "version": 3
   },
   "file_extension": ".py",
   "mimetype": "text/x-python",
   "name": "python",
   "nbconvert_exporter": "python",
   "pygments_lexer": "ipython3",
   "version": "3.10.0"
  }
 },
 "nbformat": 4,
 "nbformat_minor": 2
}
