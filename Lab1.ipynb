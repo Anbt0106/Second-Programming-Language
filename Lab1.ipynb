{
 "cells": [
  {
   "cell_type": "markdown",
   "metadata": {},
   "source": [
    "## Phần 1: Làm quen với Python"
   ]
  },
  {
   "cell_type": "markdown",
   "metadata": {},
   "source": [
    "## Lab1\n",
    "\n",
    "#1.10, 1.11, 1.17 1.18"
   ]
  },
  {
   "cell_type": "code",
   "execution_count": 63,
   "metadata": {
    "ExecuteTime": {
     "end_time": "2025-02-12T16:44:26.569196Z",
     "start_time": "2025-02-12T16:44:23.281581Z"
    }
   },
   "outputs": [
    {
     "name": "stdout",
     "output_type": "stream",
     "text": [
      "73.4\n"
     ]
    }
   ],
   "source": [
    "C = float(input())\n",
    "\n",
    "f = 9 / 5 * C + 32\n",
    "print(round(f, 1))"
   ]
  },
  {
   "cell_type": "markdown",
   "metadata": {},
   "source": [
    "Nhập ba số a, b, c tương ứng là độ dài 3 cạnh của một tam giác. Kiểm tra xem 3 cạnh có lập thành tam giác hay không, nếu có tính chu vi và diện tích tam giác.\n",
    "\n",
    "Chú ý, a, b , c được nhập lần lượt trên từng dòng.\n",
    "\n",
    "- Nếu 3 cạnh không lập thành tam giác in ra INVALID\n",
    "- Nếu 3 cạnh lập thành tam giác in ra S =  #S C =  #C\n",
    "\n",
    "trong đó #S, #C là chu vi và diện tích của tam giác"
   ]
  },
  {
   "cell_type": "code",
   "execution_count": 64,
   "metadata": {
    "ExecuteTime": {
     "end_time": "2025-02-12T16:44:37.319771Z",
     "start_time": "2025-02-12T16:44:28.742269Z"
    }
   },
   "outputs": [
    {
     "name": "stdout",
     "output_type": "stream",
     "text": [
      "S =  7.644442425710328 C =  17.0\n"
     ]
    }
   ],
   "source": [
    "import math\n",
    "\n",
    "a = float(input())\n",
    "b = float(input())\n",
    "c = float(input())\n",
    "\n",
    "if a + b > c and b + c > a and a + c > b:\n",
    "    C = a + b + c\n",
    "    D = C / 2\n",
    "    S = math.sqrt(D * (D - a) * (D - b) * (D - c))\n",
    "\n",
    "    print(\"S = \", S, \"C = \", C)\n",
    "else:\n",
    "    print(\"INVALID\")"
   ]
  },
  {
   "cell_type": "markdown",
   "metadata": {},
   "source": [
    "Nhập vào một số nguyên dương N, tính giai thừa kép N!! của N.\n",
    "\n",
    "Kết quả in ra n!! = #\n",
    "\n",
    "Ví dụ n = 6, kết quả in ra là\n",
    "\n",
    "6!! = 48"
   ]
  },
  {
   "cell_type": "code",
   "execution_count": 65,
   "metadata": {
    "ExecuteTime": {
     "end_time": "2025-02-12T16:44:44.321074Z",
     "start_time": "2025-02-12T16:44:40.467858Z"
    }
   },
   "outputs": [
    {
     "name": "stdout",
     "output_type": "stream",
     "text": [
      "6!! = 48\n"
     ]
    }
   ],
   "source": [
    "n = int(input())\n",
    "a = n\n",
    "result = 1\n",
    "while n > 0:\n",
    "    result *= n\n",
    "    n = n - 2\n",
    "\n",
    "print(f\"{a}!! = {result}\")"
   ]
  },
  {
   "cell_type": "markdown",
   "metadata": {},
   "source": [
    "Viết chương trình giải và biện luận phương trình bậc 2.\n",
    "Hoàn thiện hàm solver(a,b,c) trong file P2.py thực hiện các yêu cầu sau:\n",
    "Giải và biện luận phương trình ax2 + bx + c = 0\n",
    "- Phương trình có nghiệm duy nhất in ra nghiệm duy nhất\n",
    "- Phương trình Có 2 nghiệm in ra 2 nghiệm cách nhau bởi 1 dấu cách\n",
    "- Phương trình vô nghiệm in ra VN\n",
    "- Phương trình vô số nghiệm in ra VSN\n",
    "(Chú ý, các kết quả cần được in ra trong hàm solver chứ không trả lại thông qua lệnh return)"
   ]
  },
  {
   "cell_type": "code",
   "execution_count": 66,
   "metadata": {
    "ExecuteTime": {
     "end_time": "2025-02-12T16:44:47.223436Z",
     "start_time": "2025-02-12T16:44:47.218612Z"
    }
   },
   "outputs": [],
   "source": [
    "def solver(a, b, c):\n",
    "    import math\n",
    "    if a == 0:\n",
    "        if b == 0:\n",
    "            if c == 0:\n",
    "                print(\"VSN\")\n",
    "            else:\n",
    "                print(\"VN\")\n",
    "        else:\n",
    "            print(-c / b)\n",
    "    else:\n",
    "        delta = b ** 2 - 4 * a * c\n",
    "        if delta < 0:\n",
    "            print(\"VN\")\n",
    "        elif delta == 0:\n",
    "            print(-b / (2 * a))\n",
    "        else:\n",
    "            x1 = (-b - math.sqrt(delta)) / (2 * a)\n",
    "            x2 = (-b + math.sqrt(delta)) / (2 * a)\n",
    "            print(f\"{x1} {x2}\")"
   ]
  },
  {
   "cell_type": "markdown",
   "metadata": {},
   "source": [
    "Viết chương trình nhập vào số nguyên dương n từ bàn phím, kiểm tra xem n có phải là số siêu nguyên tố hay không?\n",
    "\n",
    "Số siêu nguyên tố là số nguyên tố mà khi bỏ 1 số tùy ý các chữ số bên phải của nó thì phần còn lại vẫn là số nguyên tố.\n",
    "\n",
    "Ví dụ:\n",
    "\n",
    "Với n = 5939 kết quả là True\n",
    "Với n = 26 kết quả là False\n",
    "Với n = 43 kết quả là False"
   ]
  },
  {
   "cell_type": "code",
   "execution_count": 67,
   "metadata": {
    "ExecuteTime": {
     "end_time": "2025-02-12T16:44:53.082943Z",
     "start_time": "2025-02-12T16:44:49.600509Z"
    }
   },
   "outputs": [
    {
     "name": "stdout",
     "output_type": "stream",
     "text": [
      "False\n"
     ]
    }
   ],
   "source": [
    "def is_prime(k):\n",
    "    if k < 2:\n",
    "        return False\n",
    "\n",
    "    for i in range(2, k):\n",
    "        if k % i == 0:\n",
    "            return False\n",
    "\n",
    "    return True\n",
    "\n",
    "\n",
    "def is_super_prime(k):\n",
    "    if not is_prime(k):\n",
    "        return False\n",
    "\n",
    "    while k > 0:\n",
    "        if not is_prime(k):\n",
    "            return False\n",
    "\n",
    "        k = k // 10\n",
    "\n",
    "    return True\n",
    "\n",
    "\n",
    "n = int(input())\n",
    "print(is_super_prime(n))"
   ]
  },
  {
   "cell_type": "markdown",
   "metadata": {},
   "source": [
    "Viết chương trình thực hiện việc nhập số nguyên n, liệt kê các số nguyên a, b, c trong đoạn [1, n] để bộ 3 (a, b, c) lập thành bộ Pitago.\n",
    "\n",
    "a, b, c được sắp theo thứ tự tăng dần (a <= b <= c), mỗi bộ trên 1 dòng theo mẫu \n",
    "\n",
    "(a, b, c)\n",
    "\n",
    "ví dụ n = 10 kết quả là "
   ]
  },
  {
   "cell_type": "code",
   "execution_count": 16,
   "metadata": {
    "ExecuteTime": {
     "end_time": "2025-02-19T08:06:51.575867Z",
     "start_time": "2025-02-19T08:06:47.209593Z"
    }
   },
   "outputs": [
    {
     "name": "stdout",
     "output_type": "stream",
     "text": [
      "(3, 4, 5)\n"
     ]
    }
   ],
   "source": [
    "def is_Pitago(a, b, c):\n",
    "    if a + b > c and b + c > a and a + c > b:\n",
    "        if a ** 2 + b ** 2 == c ** 2:\n",
    "            return True\n",
    "        elif a ** 2 == b ** 2 + c ** 2:\n",
    "            return True\n",
    "        elif a ** 2 + c ** 2 == b ** 2:\n",
    "            return True\n",
    "        return False\n",
    "    else:\n",
    "        return False\n",
    "\n",
    "\n",
    "n = int(input())\n",
    "for a in range(1, n + 1):\n",
    "    for b in range(a + 1, n + 1):\n",
    "        for c in range(b + 1, n + 1):\n",
    "            if is_Pitago(a, b, c):\n",
    "                print(f\"({a}, {b}, {c})\")"
   ]
  },
  {
   "cell_type": "markdown",
   "metadata": {},
   "source": [
    "Viết chương trình cho phép nhập một số nguyên n từ bàn phím\n",
    "\n",
    "tính và in ra kết quả của biểu thức n + nn + nnn + nnnn\n",
    "\n",
    "Ví dụ n = 5, kết quả là 5 + 55 + 555 + 5555 = 6170\n",
    "\n",
    "\n",
    "\n",
    "Chú ý: n có thể là số tự nhiên bất kỳ"
   ]
  },
  {
   "cell_type": "code",
   "execution_count": 70,
   "metadata": {
    "ExecuteTime": {
     "end_time": "2025-02-12T16:45:43.721095Z",
     "start_time": "2025-02-12T16:45:37.338311Z"
    }
   },
   "outputs": [
    {
     "name": "stdout",
     "output_type": "stream",
     "text": [
      "3702\n"
     ]
    }
   ],
   "source": [
    "n = int(input())\n",
    "\n",
    "nn = int(str(n) + str(n))\n",
    "nnn = int(str(n) + str(n) + str(n))\n",
    "nnnn = int(str(n) + str(n) + str(n) + str(n))\n",
    "\n",
    "result = n + nn + nnn + nnnn\n",
    "\n",
    "print(result)"
   ]
  },
  {
   "cell_type": "code",
   "execution_count": 17,
   "metadata": {},
   "outputs": [
    {
     "name": "stdout",
     "output_type": "stream",
     "text": [
      "6\n"
     ]
    }
   ],
   "source": [
    "n = int(input())\n",
    "\n",
    "\n",
    "def ndigital(n):\n",
    "    if n <= 0:\n",
    "        return 1\n",
    "\n",
    "    count = 0\n",
    "    while n > 0:\n",
    "        n = n // 10\n",
    "        count += 1\n",
    "\n",
    "    return count\n",
    "\n",
    "\n",
    "def compute(n):\n",
    "    total = n\n",
    "    f = n\n",
    "    for i in range(2, 5):\n",
    "        f = f * 10 ** (ndigital(n)) + n\n",
    "        total += f\n",
    "\n",
    "    return total\n",
    "\n",
    "\n",
    "print(compute(n))"
   ]
  },
  {
   "cell_type": "markdown",
   "metadata": {},
   "source": [
    "Hoàn thiện hàm is_palindrome(p), hàm này thực hiện kiểm tra số nguyên p có phải là số đối xứng hay không, nếu có thì trả lại giá trị True, và ngược lại thì trả lại giá trị False."
   ]
  },
  {
   "cell_type": "code",
   "execution_count": 71,
   "metadata": {
    "ExecuteTime": {
     "end_time": "2025-02-12T16:45:46.881439Z",
     "start_time": "2025-02-12T16:45:46.877068Z"
    }
   },
   "outputs": [],
   "source": [
    "#Hoàn thiện hàm is_palindrome(p), hàm này thực hiện kiểm tra số nguyên p có phải là số đối xứng hay không, nếu có thì trả lại giá trị True, và ngược lại thì trả lại giá trị False.\n",
    "\n",
    "def is_palindrome(p):\n",
    "    a = p\n",
    "    b = 0\n",
    "    while p > 0:\n",
    "        n = p % 10\n",
    "        b = b * 10 + n\n",
    "        p //= 10\n",
    "    return a == b\n",
    "\n"
   ]
  },
  {
   "cell_type": "markdown",
   "metadata": {},
   "source": [
    "Hoàn thiện các phương thức trong file Fraction.py theo các mô tả sau:\n",
    "\n",
    "Hàm is_minimalist_fraction(numerator, denominator) kiểm tra phân số gồm tử số là numerator, và mẫu số là denominator có phải phân số tối giản hay không?\n",
    "\n",
    "Hàm get_minimalist_fraction(numerator, denominator) thực hiện tính và trả lại phân số tối giản của phân số đầu vào (phân số được trả lại là 2 giá trị tương ứng là tử số và mẫu số)\n",
    "\n",
    "bạn có thể dùng hàm gcd(u, v) trong module math để tìm ước chung lớn nhất của 2 số  u, v.\n",
    "\n"
   ]
  },
  {
   "cell_type": "code",
   "execution_count": 72,
   "metadata": {
    "ExecuteTime": {
     "end_time": "2025-02-12T16:45:50.878951Z",
     "start_time": "2025-02-12T16:45:50.874722Z"
    }
   },
   "outputs": [],
   "source": [
    "#Hoàn thiện các phương thức trong file Fraction.py theo các mô tả sau:\n",
    "\n",
    "#Hàm is_minimalist_fraction(numerator, denominator) kiểm tra phân số gồm tử số là numerator, và mẫu số là denominator có phải phân số tối giản hay không nếu đúng trả lại giá trị là True, ngược lại trả lại giá trị là False?\n",
    "\n",
    "import math\n",
    "\n",
    "\n",
    "def is_minimalist_fraction(numerator, denominator):\n",
    "    return math.gcd(numerator, denominator) == 1\n",
    "\n",
    "\n",
    "#Hàm get_minimalist_fraction(numerator, denominator) thực hiện tính và trả lại phân số tối giản của phân số đầu vào (phân số được trả lại là 2 giá trị tương ứng là tử số và mẫu số)\n",
    "\n",
    "def get_minimalist_fraction(numerator, denominator):\n",
    "    GCD = math.gcd(numerator, denominator)\n",
    "\n",
    "    numerator = numerator / GCD\n",
    "    denominator = denominator / GCD\n",
    "\n",
    "    return int(numerator), int(denominator)\n"
   ]
  },
  {
   "cell_type": "code",
   "execution_count": 73,
   "metadata": {
    "ExecuteTime": {
     "end_time": "2025-02-12T16:45:52.616509Z",
     "start_time": "2025-02-12T16:45:52.608701Z"
    }
   },
   "outputs": [
    {
     "name": "stdout",
     "output_type": "stream",
     "text": [
      "False\n",
      "(1.0, 3.0)\n"
     ]
    }
   ],
   "source": [
    "a = 3\n",
    "b = 9\n",
    "print(is_minimalist_fraction(a, b))\n",
    "print(get_minimalist_fraction(a, b))"
   ]
  },
  {
   "cell_type": "markdown",
   "metadata": {},
   "source": [
    "Hàm f(x) liên tục trên đoạn [a, b] và có f(a)*f(b) < 0 thì tồn tại giá trị c thuộc [a, b] sao cho f(c) =0.\n",
    "\n",
    "Hoàn thiện hàm solver(f, a, b, e=0.00001) để tìm nghiệm xấp xỉ của phương trình f(x) = 0.\n",
    "\n",
    "trong các đối số có f là 1 hàm, khi đó lời gọi hàm f(t) sẽ trả lại giá trị của hàm f tại điểm t.\n",
    "\n",
    "nghiệm cần tìm là giá trị c sao cho |f(c)| <= e. Dùng hàm abs trong module math để tính giá trị tuyệt đối.\n",
    "\n",
    "Áp dụng phương pháp chia đôi để tìm nghiệm gần đúng của phương trình."
   ]
  },
  {
   "cell_type": "code",
   "execution_count": 15,
   "metadata": {
    "ExecuteTime": {
     "end_time": "2025-02-19T08:06:36.485533Z",
     "start_time": "2025-02-19T08:06:36.479243Z"
    }
   },
   "outputs": [],
   "source": [
    "\n",
    "# giải phương trình f(x) = 0, tìm nghiệm xấp xỉ c theo phương pháp chia đôi.\n",
    "def solver(f, a, b, e=0.000001):  # f(c) < abs(e)\n",
    "    # chac chan f(a) < 0 vaf f(b) > 0 thi moi lam ddc\n",
    "\n",
    "    m = (a + b) / 2\n",
    "\n",
    "    while a < m and m < b and a != b:\n",
    "        if abs(f(m)) < e:\n",
    "            return m\n",
    "        else:\n",
    "            if f(m) > 0:\n",
    "                b = m\n",
    "                m = (a + b) / 2\n",
    "            else:\n",
    "                a = m\n",
    "                m = (a + b) / 2\n",
    "\n",
    "    return m\n"
   ]
  },
  {
   "cell_type": "markdown",
   "metadata": {},
   "source": [
    "Tính sin cos theo khai triển Taylor\n",
    "\n",
    "\n",
    "Chú ý: Điều kiện dừng: (x^n)/n! = 0."
   ]
  },
  {
   "cell_type": "code",
   "execution_count": 75,
   "metadata": {
    "ExecuteTime": {
     "end_time": "2025-02-12T16:45:57.925013Z",
     "start_time": "2025-02-12T16:45:57.919616Z"
    }
   },
   "outputs": [],
   "source": [
    "import math\n",
    "\n",
    "\n",
    "def sinTaylor(x, epsilon=1e-15):\n",
    "    result = 0\n",
    "    term = x  # First term (n=0)\n",
    "    n = 0\n",
    "    while abs(term) > epsilon:\n",
    "        result += term\n",
    "        n += 1\n",
    "        term = ((-1) ** n) * (x ** (2 * n + 1)) / math.factorial(2 * n + 1)\n",
    "    return result\n",
    "\n",
    "\n",
    "def cosTaylor(x, epsilon=1e-15):\n",
    "    result = 0\n",
    "    term = 1  # First term (n=0)\n",
    "    n = 0\n",
    "    while abs(term) > epsilon:\n",
    "        result += term\n",
    "        n += 1\n",
    "        term = ((-1) ** n) * (x ** (2 * n)) / math.factorial(2 * n)\n",
    "    return result\n",
    "\n",
    "\n",
    "# Input\n",
    "x = 0.9685222523158571\n",
    "\n",
    "# Output\n",
    "print(sinTaylor(x), cosTaylor(x))\n"
   ]
  },
  {
   "cell_type": "code",
   "execution_count": 76,
   "metadata": {
    "ExecuteTime": {
     "end_time": "2025-02-12T16:46:04.702707Z",
     "start_time": "2025-02-12T16:46:04.699613Z"
    }
   },
   "outputs": [
    {
     "name": "stdout",
     "output_type": "stream",
     "text": [
      "0.479425538604203\n",
      "0.8775825618903728\n"
     ]
    }
   ],
   "source": [
    "print(sin(0.5, 10))\n",
    "print(cos(0.5, 10))"
   ]
  },
  {
   "cell_type": "markdown",
   "metadata": {},
   "source": [
    "Tính căn bậc hai theo phương pháp Newton:\n",
    "Để tính căn bậc hai của một số dương t, hãy bắt đầu với ước tính t = c. Nếu t = c/t thì t bằng căn bậc hai của c. Nếu không, hãy tinh chỉnh ước tính bằng cách thay thế t bằng giá trị trung bình của t và c/t và lặp lại cho tới khi nhận được kết quả có độ chính xác tới 15 chữ số sau dấu phẩy.\n",
    "Chú ý: Điều kiện dừng là abs(t - c/t) < (EPSILON * t). Với EPSILON = 10E-15."
   ]
  },
  {
   "cell_type": "code",
   "execution_count": 93,
   "metadata": {
    "ExecuteTime": {
     "end_time": "2025-02-12T17:00:24.238502Z",
     "start_time": "2025-02-12T17:00:24.234486Z"
    }
   },
   "outputs": [],
   "source": [
    "def sqrt_newton(c):\n",
    "    EPSILON = 10E-15\n",
    "    t = c\n",
    "    while abs(t - c / t) > EPSILON * t:\n",
    "        t = (c / t + t) / 2\n",
    "    return round(t, 15)\n",
    "\n",
    "\n",
    "def sqrt_newton(c):\n",
    "    EPSILON = 1e-15\n",
    "\n",
    "    return 0"
   ]
  },
  {
   "cell_type": "code",
   "execution_count": 95,
   "metadata": {
    "ExecuteTime": {
     "end_time": "2025-02-12T17:01:51.108166Z",
     "start_time": "2025-02-12T17:01:51.103923Z"
    }
   },
   "outputs": [
    {
     "name": "stdout",
     "output_type": "stream",
     "text": [
      "1.414213562373095\n"
     ]
    }
   ],
   "source": [
    "print(sqrt(2))\n"
   ]
  },
  {
   "cell_type": "markdown",
   "metadata": {},
   "source": [
    "Vay ngân hàng số tiền là A đồng với lãi suất r%/tháng. Sau đúng một tháng kể từ ngày vay, bắt đầu hoàn nợ; hai lần hoàn nợ cách nhau đúng một tháng, mỗi hoàn nợ số tiền là X đồng và trả hết tiền nợ sau đúng n tháng.\n",
    "Hãy hoàn thiện phương thức loan(A, r, n) với A, r, n là tham số truyền vào cho trước để tính số tiền cần hoàn nợ X.\n",
    "\n",
    "Dưới đây là cách tính tiền hoàn nợ:\n",
    "\n",
    "\n",
    "\n",
    "* Chú ý:\n",
    "Ví dụ:\n",
    "Đầu vào cho trước: \n",
    "A= 3786784723\n",
    "\n",
    "r = 0.12\n",
    "\n",
    "n = 6\n",
    "\n",
    "\n",
    "Đầu ra:\n",
    "Vay: 3,786,784,723.00 Đồng\n",
    "Lãi suất: 12.00%/tháng\n",
    "Trong: 6.00 tháng\n",
    "Mỗi tháng cần trả:  921,043,434.771 Đồng\n",
    "\n",
    "**Mỗi thông tin được in trên một dòng; các mục Vay, Lãi suất, số Tháng thì được lấy 2 chữ số sau dấu phẩy, mục Trả góp lấy 3 chữ số sau dấu phẩy.\n",
    "\n",
    "- Để in có định dạng dấu phẩy phân cách hàng nghìn có thể dùng phương thức format của lớp String (str)\n",
    "\n",
    "Ví du: print(\"{:,.3f}\".format(56789)) \n",
    "\n",
    "kết quả in ra là: 56,789.000  "
   ]
  },
  {
   "cell_type": "code",
   "execution_count": 98,
   "metadata": {
    "ExecuteTime": {
     "end_time": "2025-02-12T17:12:43.108958Z",
     "start_time": "2025-02-12T17:12:43.104447Z"
    }
   },
   "outputs": [],
   "source": [
    "def loan(A, r, n):\n",
    "    print(f\"Vay: {A:,.2f} Đồng\")\n",
    "    a = r * 100\n",
    "    print(f\"Lãi suất:  {a:,.2f}%/tháng\")\n",
    "\n",
    "    X = (A * r * (1 + r) ** n) / ((1 + r) ** n - 1)  # X = A*r*(1+r)^n/((1+r)^n-1)\n",
    "    print(f\"Trong: {n:,.2f} tháng\")\n",
    "    print(f\"Mỗi tháng cần trả: {X:,.3f} Đồng\")\n"
   ]
  },
  {
   "cell_type": "code",
   "execution_count": 99,
   "metadata": {
    "ExecuteTime": {
     "end_time": "2025-02-12T17:12:45.754161Z",
     "start_time": "2025-02-12T17:12:45.749800Z"
    }
   },
   "outputs": [
    {
     "name": "stdout",
     "output_type": "stream",
     "text": [
      "Vay: 3,786,784,723.00 Đồng\n",
      "Lãi suất: 0.12/tháng\n",
      "Trong 6.00 tháng moi tháng cần trả: 921,043,434.771 Đồng\n"
     ]
    }
   ],
   "source": [
    "loan(3786784723, 0.12, 6)"
   ]
  },
  {
   "cell_type": "markdown",
   "metadata": {},
   "source": [
    "Sinh viên hoàn thiện phương thức parse  nhận n là tham số đầu vào cho phép phân tích 1 số nguyên dương thành tích các thừa số nguyên tố.\n",
    "\n",
    "Gợi ý:\n",
    "\n",
    "Chia số n cho các số i từ 2 -> n đến khi nào không thể chia được nữa. \n",
    "\n",
    "Từ đó ta nhận thấy là các số phía sau i thì n không bao giờ chia hết nếu nó là bội của i mà chỉ có thể chia hết cho các số khác i chưa được kiểm tra, mà các số chưa kiểm tra đó chính là các số nguyên tố. Do vậy chúng ta sẽ không cần kiểm tra các số có là số nguyên tố hay không.\n",
    "\n",
    "Ví dụ với n =  18.\n",
    "\n",
    "i = 2  (18%2 ==0) lấy 18/2 = 9, (9%2  != 0 ) do đó tăng i lên 1\n",
    "\n",
    "i = 3 (9%3 == 0) lấy 9/3 = 3, (3%3 = 0) lấy 3/3 = 1 kết thúc\n",
    "\n",
    "vậy kết quả được phép phân tích là 18 = 2 x 3 x 3\n",
    "\n",
    "\n",
    "Vd:\n",
    "Input: 15\n",
    "Output: 15 = 3 x 5"
   ]
  },
  {
   "cell_type": "code",
   "execution_count": 83,
   "metadata": {
    "ExecuteTime": {
     "end_time": "2025-02-12T16:48:09.711495Z",
     "start_time": "2025-02-12T16:48:09.707603Z"
    }
   },
   "outputs": [],
   "source": [
    "def parse(n):\n",
    "    result = f\"{n} = \"\n",
    "    i = 2\n",
    "    while n > 1:\n",
    "        if n % i == 0:\n",
    "            result += str(i)\n",
    "            n = n // i\n",
    "            if n > 1:\n",
    "                result += \" x \"\n",
    "        else:\n",
    "            i += 1\n",
    "    print(result)\n",
    "    return"
   ]
  },
  {
   "cell_type": "code",
   "execution_count": 84,
   "metadata": {
    "ExecuteTime": {
     "end_time": "2025-02-12T16:48:11.635984Z",
     "start_time": "2025-02-12T16:48:11.631979Z"
    }
   },
   "outputs": [
    {
     "name": "stdout",
     "output_type": "stream",
     "text": [
      "15 = 3 x 5\n"
     ]
    }
   ],
   "source": [
    "n = 15\n",
    "print(parse(n))"
   ]
  },
  {
   "cell_type": "markdown",
   "metadata": {},
   "source": [
    "Sinh viên hoàn thiện hàm convert trong file ToBinary.py, hàm này nhận vào đối số n là một số nguyên hệ cơ số 10 và trả về chuỗi dạng nhị phân của n.\n",
    "Sử dụng phép chuyển đổi số dạng thập phân sang nhị phân bằng phép chia với 2.\n",
    "\n",
    "Ví dụ:\n",
    "input = 11\n",
    "output = 1011"
   ]
  },
  {
   "cell_type": "code",
   "execution_count": 87,
   "metadata": {
    "ExecuteTime": {
     "end_time": "2025-02-12T16:48:25.112362Z",
     "start_time": "2025-02-12T16:48:25.108762Z"
    }
   },
   "outputs": [],
   "source": [
    "def convert(n):\n",
    "    result = \"\"\n",
    "    while n > 0:\n",
    "        result = str(n % 2) + result\n",
    "        n = n // 2\n",
    "\n",
    "    return result\n",
    "\n",
    "\n",
    "def convert(n):\n",
    "    result = \"\"\n",
    "    while n > 0:\n",
    "        remainder = n % 2\n",
    "        n = n // 2\n",
    "\n",
    "        result += str(remainder)\n",
    "    result_s = result[::-1]\n",
    "    return result_s\n",
    "\n"
   ]
  },
  {
   "cell_type": "code",
   "execution_count": 88,
   "metadata": {
    "ExecuteTime": {
     "end_time": "2025-02-12T16:48:27.665428Z",
     "start_time": "2025-02-12T16:48:27.662060Z"
    }
   },
   "outputs": [
    {
     "name": "stdout",
     "output_type": "stream",
     "text": [
      "11010\n"
     ]
    }
   ],
   "source": [
    "n = 26\n",
    "print(convert(n))"
   ]
  },
  {
   "cell_type": "markdown",
   "metadata": {},
   "source": [
    "Sinh viên hoàn thiện phương thức convert với n là tham số cho trước để thực hiện chuyển đổi số dạng nhị phân sang thập phân.\n",
    "Xét ví dụ:\n",
    "\n",
    "\n",
    "Chú ý: Kiểu dữ liệu đầu vào là xâu chuỗi.\n",
    "Ví dụ:\n",
    "input: n = \"00001\"\n",
    "output: 1"
   ]
  },
  {
   "cell_type": "code",
   "execution_count": 21,
   "metadata": {
    "ExecuteTime": {
     "end_time": "2025-02-12T16:48:19.586797Z",
     "start_time": "2025-02-12T16:48:19.582798Z"
    }
   },
   "outputs": [],
   "source": [
    "def convert(n):\n",
    "    n = n.strip().replace(\" \", \"\")\n",
    "    result = 0\n",
    "    for i in range(len(n)):\n",
    "        c = n[i]\n",
    "        term = int(c) * (2 ** (len(n) - i - 1))\n",
    "        result += term\n",
    "\n",
    "    return result"
   ]
  },
  {
   "cell_type": "code",
   "execution_count": 22,
   "metadata": {
    "ExecuteTime": {
     "end_time": "2025-02-12T16:48:20.964277Z",
     "start_time": "2025-02-12T16:48:20.960423Z"
    }
   },
   "outputs": [
    {
     "name": "stdout",
     "output_type": "stream",
     "text": [
      "19\n"
     ]
    }
   ],
   "source": [
    "n = \"010011\"\n",
    "print(convert(n))"
   ]
  },
  {
   "cell_type": "code",
   "execution_count": 20,
   "metadata": {},
   "outputs": [
    {
     "name": "stdout",
     "output_type": "stream",
     "text": [
      "<class 'int'>\n",
      "<class 'int'>\n",
      "<class 'int'>\n",
      "<class 'int'>\n",
      "<class 'int'>\n",
      "<class 'int'>\n",
      "<class 'int'>\n",
      "<class 'int'>\n",
      "<class 'int'>\n",
      "<class 'int'>\n",
      "<class 'int'>\n",
      "<class 'int'>\n"
     ]
    }
   ],
   "source": [
    "n = \"010011\"\n",
    "\n",
    "for cha in range(len(n)):\n",
    "    c = int(n[cha])\n",
    "    print(type(cha))\n",
    "    print(type(c))"
   ]
  },
  {
   "cell_type": "markdown",
   "metadata": {},
   "source": [
    "Sinh viên hoàn thiện phương thức add(a, b) với a, b là tham số truyền vào cho trước để thực hiện phép cộng nhị phân.\n",
    "Xét ví dụ dưới đây:\n",
    "\n",
    "\n",
    "Chú ý: Kiểu dữ liệu đầu vào là xâu chuỗi: Ví dụ \"0001\""
   ]
  },
  {
   "cell_type": "code",
   "execution_count": null,
   "metadata": {},
   "outputs": [],
   "source": [
    "def add(a, b):\n",
    "    a = a.strip().replace(\" \", \"\")\n",
    "    b = b.strip().replace(\" \", \"\")\n",
    "\n",
    "    if len(a) > len(b):\n",
    "        b = b.zfill(len(a))\n",
    "    else:\n",
    "        a = a.zfill(len(b))\n",
    "\n",
    "    result = \"\"\n",
    "    carry = 0\n",
    "    for i in range(len(a) - 1, -1, -1):\n",
    "        sum_ = int(a[i]) + int(b[i]) + carry\n",
    "        result = str(sum_ % 2) + result\n",
    "        carry = sum_ // 2\n",
    "\n",
    "    if carry:\n",
    "        result = \"1\" + result\n",
    "\n",
    "    return result\n",
    "\n",
    "\n",
    "\n"
   ]
  },
  {
   "cell_type": "markdown",
   "metadata": {},
   "source": [
    "Hoàn thiện các hàm được cung cấp để in ra màn hình 1 mẫu hình tam giác tương ứng. Các hàm nhận vào số nguyên n là kích cỡ của hình tam giác. Cụ thể mẫu hình tam giác cần in ra của mỗi hàm như sau:"
   ]
  },
  {
   "cell_type": "code",
   "execution_count": 20,
   "metadata": {
    "ExecuteTime": {
     "end_time": "2025-02-19T08:09:15.054486Z",
     "start_time": "2025-02-19T08:09:15.049406Z"
    }
   },
   "outputs": [],
   "source": [
    "def leftHalfPyramid(n):\n",
    "    for i in range(1, n + 1):\n",
    "        print(\"*\" * i)\n",
    "\n",
    "\n",
    "def rightHalfPyramid(n):\n",
    "    for i in range(1, n + 1):\n",
    "        print(\" \" * (n - i) + \"*\" * i)\n",
    "\n",
    "\n",
    "def fullPyramid(n):\n",
    "    num_star = 1\n",
    "    for i in range(1, n + 1):\n",
    "        print(\" \" * (n - i) + \"*\" * num_star)\n",
    "        num_star += 2\n",
    "\n",
    "\n",
    "def invertedFullPyramid(n):\n",
    "    num_star = 2 * n - 1\n",
    "    for i in range(1, n + 1):\n",
    "        print(\" \" * (i - 1) + \"*\" * num_star)\n",
    "        num_star -= 2\n",
    "\n",
    "\n",
    "def hollowPyramid(n):\n",
    "    for i in range(1, n + 1):\n",
    "        if i == 1 or i == n:\n",
    "            print(\" \" * (n - i) + \"*\" * (2 * i - 1))\n",
    "        else:\n",
    "            print(\" \" * (n - i) + \"*\" + \" \" * (2 * i - 3) + \"*\")"
   ]
  },
  {
   "cell_type": "code",
   "execution_count": 22,
   "metadata": {
    "ExecuteTime": {
     "end_time": "2025-02-19T08:12:26.548487Z",
     "start_time": "2025-02-19T08:12:26.535660Z"
    }
   },
   "outputs": [
    {
     "name": "stdout",
     "output_type": "stream",
     "text": [
      "*\n",
      "**\n",
      "***\n",
      "****\n",
      "*****\n",
      "    *\n",
      "   **\n",
      "  ***\n",
      " ****\n",
      "*****\n",
      "    *\n",
      "   ***\n",
      "  *****\n",
      " *******\n",
      "*********\n",
      "*********\n",
      " *******\n",
      "  *****\n",
      "   ***\n",
      "    *\n",
      "    *\n",
      "   * *\n",
      "  *   *\n",
      " *     *\n",
      "*********\n"
     ]
    }
   ],
   "source": [
    "leftHalfPyramid(5)\n",
    "rightHalfPyramid(5)\n",
    "fullPyramid(5)\n",
    "invertedFullPyramid(5)\n",
    "hollowPyramid(5)"
   ]
  },
  {
   "metadata": {},
   "cell_type": "code",
   "outputs": [],
   "execution_count": null,
   "source": [
    "\n",
    "def isPerfectNumber(number: int):\n",
    "    \"\"\"\n",
    "    Số hoàn hảo là một số nguyên dương mà tổng các ước nguyên dương thực sự của nó\n",
    "    (các ước nguyên dương ngoại trừ chính số đó) bằng chính nó. Hoàn thiện hàm isPerfectNumber(number)\n",
    "    nhận vào số nguyên dương number và trả về True nếu number là số hoàn hảo\n",
    "    và False nếu number không phải là số hoàn hảo.\n",
    "\n",
    "    Ví dụ:\n",
    "    input: 6\n",
    "    ouput: True\n",
    "\n",
    "    input: 14\n",
    "    output: False\n",
    "    \"\"\"\n",
    "    if number < 2:\n",
    "        return False\n",
    "\n",
    "    sum_n = sum(i for i in range(1, number) if number % i == 0)\n",
    "\n",
    "    return sum_n == number\n",
    "\n",
    "def drawPatterm(height: int):\n",
    "    \"\"\"\n",
    "    Hãy vẽ hình vuông có chiều cao height.\n",
    "    Ví dụ\n",
    "    input: 4\n",
    "    output:\n",
    "    ****\n",
    "    *  *\n",
    "    *  *\n",
    "    ****\n",
    "    \"\"\"\n",
    "    if height < 2:\n",
    "        print(\"*\" * height)\n",
    "        return\n",
    "\n",
    "    print(\"*\" * height)\n",
    "    for _ in range(height - 2):\n",
    "        print(\"*\" + \" \" * (height - 2) + \"*\")\n",
    "    print(\"*\" * height)\n",
    "\n",
    "\n",
    "def caculateExp(x: float, n: int):\n",
    "    \"\"\"\n",
    "    Hoàn thiện hàm tính e^x theo công thức đã cho của đề bài.\n",
    "    Ví dụ:\n",
    "    input: 2 100 (Tương ứng x = 2 và n = 100)\n",
    "    output: 7.3890561\n",
    "    \"\"\"\n",
    "    result = 0.0\n",
    "    term = 1.0\n",
    "    for i in range(n):\n",
    "        result += term\n",
    "        term *= x / (i + 1)\n",
    "    return round(result, 8)\n"
   ]
  }
 ],
 "metadata": {
  "kernelspec": {
   "display_name": "Python 3",
   "language": "python",
   "name": "python3"
  },
  "language_info": {
   "codemirror_mode": {
    "name": "ipython",
    "version": 3
   },
   "file_extension": ".py",
   "mimetype": "text/x-python",
   "name": "python",
   "nbconvert_exporter": "python",
   "pygments_lexer": "ipython3",
   "version": "3.10.0"
  }
 },
 "nbformat": 4,
 "nbformat_minor": 2
}
