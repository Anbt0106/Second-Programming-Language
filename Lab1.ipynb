{
 "cells": [
  {
   "cell_type": "markdown",
   "metadata": {},
   "source": [
    "## Lab1"
   ]
  },
  {
   "cell_type": "code",
   "metadata": {
    "ExecuteTime": {
     "end_time": "2025-02-12T14:42:24.382099Z",
     "start_time": "2025-02-12T14:42:22.219672Z"
    }
   },
   "source": [
    "C = float(input())\n",
    "\n",
    "f = 9 / 5 * C + 32\n",
    "print(round(f, 1))"
   ],
   "outputs": [
    {
     "ename": "KeyboardInterrupt",
     "evalue": "Interrupted by user",
     "output_type": "error",
     "traceback": [
      "\u001B[1;31m---------------------------------------------------------------------------\u001B[0m",
      "\u001B[1;31mKeyboardInterrupt\u001B[0m                         Traceback (most recent call last)",
      "Cell \u001B[1;32mIn[1], line 1\u001B[0m\n\u001B[1;32m----> 1\u001B[0m C \u001B[38;5;241m=\u001B[39m \u001B[38;5;28mfloat\u001B[39m(\u001B[38;5;28;43minput\u001B[39;49m\u001B[43m(\u001B[49m\u001B[43m)\u001B[49m)\n\u001B[0;32m      3\u001B[0m f \u001B[38;5;241m=\u001B[39m \u001B[38;5;241m9\u001B[39m \u001B[38;5;241m/\u001B[39m \u001B[38;5;241m5\u001B[39m \u001B[38;5;241m*\u001B[39m C \u001B[38;5;241m+\u001B[39m \u001B[38;5;241m32\u001B[39m\n\u001B[0;32m      4\u001B[0m \u001B[38;5;28mprint\u001B[39m(\u001B[38;5;28mround\u001B[39m(f, \u001B[38;5;241m1\u001B[39m))\n",
      "File \u001B[1;32m~\\AppData\\Local\\Packages\\PythonSoftwareFoundation.Python.3.11_qbz5n2kfra8p0\\LocalCache\\local-packages\\Python311\\site-packages\\ipykernel\\kernelbase.py:1282\u001B[0m, in \u001B[0;36mKernel.raw_input\u001B[1;34m(self, prompt)\u001B[0m\n\u001B[0;32m   1280\u001B[0m     msg \u001B[38;5;241m=\u001B[39m \u001B[38;5;124m\"\u001B[39m\u001B[38;5;124mraw_input was called, but this frontend does not support input requests.\u001B[39m\u001B[38;5;124m\"\u001B[39m\n\u001B[0;32m   1281\u001B[0m     \u001B[38;5;28;01mraise\u001B[39;00m StdinNotImplementedError(msg)\n\u001B[1;32m-> 1282\u001B[0m \u001B[38;5;28;01mreturn\u001B[39;00m \u001B[38;5;28;43mself\u001B[39;49m\u001B[38;5;241;43m.\u001B[39;49m\u001B[43m_input_request\u001B[49m\u001B[43m(\u001B[49m\n\u001B[0;32m   1283\u001B[0m \u001B[43m    \u001B[49m\u001B[38;5;28;43mstr\u001B[39;49m\u001B[43m(\u001B[49m\u001B[43mprompt\u001B[49m\u001B[43m)\u001B[49m\u001B[43m,\u001B[49m\n\u001B[0;32m   1284\u001B[0m \u001B[43m    \u001B[49m\u001B[38;5;28;43mself\u001B[39;49m\u001B[38;5;241;43m.\u001B[39;49m\u001B[43m_parent_ident\u001B[49m\u001B[43m[\u001B[49m\u001B[38;5;124;43m\"\u001B[39;49m\u001B[38;5;124;43mshell\u001B[39;49m\u001B[38;5;124;43m\"\u001B[39;49m\u001B[43m]\u001B[49m\u001B[43m,\u001B[49m\n\u001B[0;32m   1285\u001B[0m \u001B[43m    \u001B[49m\u001B[38;5;28;43mself\u001B[39;49m\u001B[38;5;241;43m.\u001B[39;49m\u001B[43mget_parent\u001B[49m\u001B[43m(\u001B[49m\u001B[38;5;124;43m\"\u001B[39;49m\u001B[38;5;124;43mshell\u001B[39;49m\u001B[38;5;124;43m\"\u001B[39;49m\u001B[43m)\u001B[49m\u001B[43m,\u001B[49m\n\u001B[0;32m   1286\u001B[0m \u001B[43m    \u001B[49m\u001B[43mpassword\u001B[49m\u001B[38;5;241;43m=\u001B[39;49m\u001B[38;5;28;43;01mFalse\u001B[39;49;00m\u001B[43m,\u001B[49m\n\u001B[0;32m   1287\u001B[0m \u001B[43m\u001B[49m\u001B[43m)\u001B[49m\n",
      "File \u001B[1;32m~\\AppData\\Local\\Packages\\PythonSoftwareFoundation.Python.3.11_qbz5n2kfra8p0\\LocalCache\\local-packages\\Python311\\site-packages\\ipykernel\\kernelbase.py:1325\u001B[0m, in \u001B[0;36mKernel._input_request\u001B[1;34m(self, prompt, ident, parent, password)\u001B[0m\n\u001B[0;32m   1322\u001B[0m \u001B[38;5;28;01mexcept\u001B[39;00m \u001B[38;5;167;01mKeyboardInterrupt\u001B[39;00m:\n\u001B[0;32m   1323\u001B[0m     \u001B[38;5;66;03m# re-raise KeyboardInterrupt, to truncate traceback\u001B[39;00m\n\u001B[0;32m   1324\u001B[0m     msg \u001B[38;5;241m=\u001B[39m \u001B[38;5;124m\"\u001B[39m\u001B[38;5;124mInterrupted by user\u001B[39m\u001B[38;5;124m\"\u001B[39m\n\u001B[1;32m-> 1325\u001B[0m     \u001B[38;5;28;01mraise\u001B[39;00m \u001B[38;5;167;01mKeyboardInterrupt\u001B[39;00m(msg) \u001B[38;5;28;01mfrom\u001B[39;00m\u001B[38;5;250m \u001B[39m\u001B[38;5;28;01mNone\u001B[39;00m\n\u001B[0;32m   1326\u001B[0m \u001B[38;5;28;01mexcept\u001B[39;00m \u001B[38;5;167;01mException\u001B[39;00m:\n\u001B[0;32m   1327\u001B[0m     \u001B[38;5;28mself\u001B[39m\u001B[38;5;241m.\u001B[39mlog\u001B[38;5;241m.\u001B[39mwarning(\u001B[38;5;124m\"\u001B[39m\u001B[38;5;124mInvalid Message:\u001B[39m\u001B[38;5;124m\"\u001B[39m, exc_info\u001B[38;5;241m=\u001B[39m\u001B[38;5;28;01mTrue\u001B[39;00m)\n",
      "\u001B[1;31mKeyboardInterrupt\u001B[0m: Interrupted by user"
     ]
    }
   ],
   "execution_count": 1
  },
  {
   "cell_type": "markdown",
   "metadata": {},
   "source": [
    "Nhập ba số a, b, c tương ứng là độ dài 3 cạnh của một tam giác. Kiểm tra xem 3 cạnh có lập thành tam giác hay không, nếu có tính chu vi và diện tích tam giác.\n",
    "\n",
    "Chú ý, a, b , c được nhập lần lượt trên từng dòng.\n",
    "\n",
    "- Nếu 3 cạnh không lập thành tam giác in ra INVALID\n",
    "- Nếu 3 cạnh lập thành tam giác in ra S =  #S C =  #C\n",
    "\n",
    "trong đó #S, #C là chu vi và diện tích của tam giác"
   ]
  },
  {
   "cell_type": "code",
   "execution_count": null,
   "metadata": {},
   "outputs": [],
   "source": [
    "import math\n",
    "\n",
    "a = float(input())\n",
    "b = float(input())\n",
    "c = float(input())\n",
    "\n",
    "if a + b > c and b + c > a and a + c > b:\n",
    "    C = a + b + c\n",
    "    D = C / 2\n",
    "    S = math.sqrt(D * (D - a) * (D - b) * (D - c))\n",
    "\n",
    "    print(\"S = \", S, \"C = \", C)\n",
    "else:\n",
    "    print(\"INVALID\")"
   ]
  },
  {
   "cell_type": "markdown",
   "metadata": {},
   "source": [
    "Nhập vào một số nguyên dương N, tính giai thừa kép N!! của N.\n",
    "\n",
    "Kết quả in ra n!! = #\n",
    "\n",
    "Ví dụ n = 6, kết quả in ra là\n",
    "\n",
    "6!! = 48"
   ]
  },
  {
   "cell_type": "code",
   "execution_count": null,
   "metadata": {},
   "outputs": [],
   "source": [
    "n = int(input())\n",
    "a = n\n",
    "result = 1\n",
    "while n > 0:\n",
    "    result *= n\n",
    "    n = n - 2\n",
    "\n",
    "print(f\"{a}!! = {result}\")"
   ]
  },
  {
   "cell_type": "markdown",
   "metadata": {},
   "source": [
    "Viết chương trình giải và biện luận phương trình bậc 2.\n",
    "Hoàn thiện hàm solver(a,b,c) trong file P2.py thực hiện các yêu cầu sau:\n",
    "Giải và biện luận phương trình ax2 + bx + c = 0\n",
    "- Phương trình có nghiệm duy nhất in ra nghiệm duy nhất\n",
    "- Phương trình Có 2 nghiệm in ra 2 nghiệm cách nhau bởi 1 dấu cách\n",
    "- Phương trình vô nghiệm in ra VN\n",
    "- Phương trình vô số nghiệm in ra VSN\n",
    "(Chú ý, các kết quả cần được in ra trong hàm solver chứ không trả lại thông qua lệnh return)"
   ]
  },
  {
   "cell_type": "code",
   "execution_count": null,
   "metadata": {},
   "outputs": [],
   "source": [
    "def solver(a, b, c):\n",
    "    import math\n",
    "    if a == 0:\n",
    "        if b == 0:\n",
    "            if c == 0:\n",
    "                print(\"VSN\")\n",
    "            else:\n",
    "                print(\"VN\")\n",
    "        else:\n",
    "            print(-c / b)\n",
    "    else:\n",
    "        delta = b ** 2 - 4 * a * c\n",
    "        if delta < 0:\n",
    "            print(\"VN\")\n",
    "        elif delta == 0:\n",
    "            print(-b / (2 * a))\n",
    "        else:\n",
    "            x1 = (-b - math.sqrt(delta)) / (2 * a)\n",
    "            x2 = (-b + math.sqrt(delta)) / (2 * a)\n",
    "            print(f\"{x1} {x2}\")"
   ]
  },
  {
   "cell_type": "markdown",
   "metadata": {},
   "source": [
    "Viết chương trình nhập vào số nguyên dương n từ bàn phím, kiểm tra xem n có phải là số siêu nguyên tố hay không?\n",
    "\n",
    "Số siêu nguyên tố là số nguyên tố mà khi bỏ 1 số tùy ý các chữ số bên phải của nó thì phần còn lại vẫn là số nguyên tố.\n",
    "\n",
    "Ví dụ:\n",
    "\n",
    "Với n = 5939 kết quả là True\n",
    "Với n = 26 kết quả là False\n",
    "Với n = 43 kết quả là False"
   ]
  },
  {
   "cell_type": "code",
   "execution_count": null,
   "metadata": {},
   "outputs": [],
   "source": [
    "def is_prime(k):\n",
    "    if k < 2:\n",
    "        return False\n",
    "\n",
    "    for i in range(2, k):\n",
    "        if k % i == 0:\n",
    "            return False\n",
    "\n",
    "    return True\n",
    "\n",
    "\n",
    "def is_super_prime(k):\n",
    "    if not is_prime(k):\n",
    "        return False\n",
    "\n",
    "    while k > 0:\n",
    "        if not is_prime(k):\n",
    "            return False\n",
    "\n",
    "        k = k // 10\n",
    "\n",
    "    return True\n",
    "\n",
    "\n",
    "n = int(input())\n",
    "print(is_super_prime(n))"
   ]
  },
  {
   "cell_type": "markdown",
   "metadata": {},
   "source": [
    "Viết chương trình thực hiện việc nhập số nguyên n, liệt kê các số nguyên a, b, c trong đoạn [1, n] để bộ 3 (a, b, c) lập thành bộ Pitago.\n",
    "\n",
    "a, b, c được sắp theo thứ tự tăng dần (a <= b <= c), mỗi bộ trên 1 dòng theo mẫu \n",
    "\n",
    "(a, b, c)\n",
    "\n",
    "ví dụ n = 10 kết quả là "
   ]
  },
  {
   "cell_type": "code",
   "execution_count": null,
   "metadata": {},
   "outputs": [],
   "source": [
    "def is_Pitago(a, b, c):\n",
    "    if a + b > c and b + c > a and a + c > b:\n",
    "        if a ** 2 + b ** 2 == c ** 2:\n",
    "            return True\n",
    "        elif a ** 2 == b ** 2 + c ** 2:\n",
    "            return True\n",
    "        elif a ** 2 + c ** 2 == b ** 2:\n",
    "            return True\n",
    "        return False\n",
    "    else:\n",
    "        return False\n",
    "\n",
    "\n",
    "n = int(input())\n",
    "for a in range(1, n + 1):\n",
    "    for b in range(a + 1, n + 1):\n",
    "        for c in range(b + 1, n + 1):\n",
    "            if is_Pitago(a, b, c):\n",
    "                print(f\"({a}, {b}, {c})\")"
   ]
  },
  {
   "cell_type": "markdown",
   "metadata": {},
   "source": [
    "Viết chương trình cho phép nhập một số nguyên n từ bàn phím\n",
    "\n",
    "tính và in ra kết quả của biểu thức n + nn + nnn + nnnn\n",
    "\n",
    "Ví dụ n = 5, kết quả là 5 + 55 + 555 + 5555 = 6170\n",
    "\n",
    "\n",
    "\n",
    "Chú ý: n có thể là số tự nhiên bất kỳ"
   ]
  },
  {
   "cell_type": "code",
   "execution_count": null,
   "metadata": {},
   "outputs": [],
   "source": [
    "n = int(input())\n",
    "\n",
    "nn = int(str(n) + str(n))\n",
    "nnn = int(str(n) + str(n) + str(n))\n",
    "nnnn = int(str(n) + str(n) + str(n) + str(n))\n",
    "\n",
    "result = n + nn + nnn + nnnn\n",
    "\n",
    "print(result)"
   ]
  },
  {
   "cell_type": "markdown",
   "metadata": {},
   "source": [
    "Hoàn thiện hàm is_palindrome(p), hàm này thực hiện kiểm tra số nguyên p có phải là số đối xứng hay không, nếu có thì trả lại giá trị True, và ngược lại thì trả lại giá trị False."
   ]
  },
  {
   "cell_type": "code",
   "execution_count": null,
   "metadata": {},
   "outputs": [],
   "source": [
    "#Hoàn thiện hàm is_palindrome(p), hàm này thực hiện kiểm tra số nguyên p có phải là số đối xứng hay không, nếu có thì trả lại giá trị True, và ngược lại thì trả lại giá trị False.\n",
    "\n",
    "def is_palindrome(p):\n",
    "    a = p\n",
    "    b = 0\n",
    "    while p > 0:\n",
    "        n = p % 10\n",
    "        b = b * 10 + n\n",
    "        p //= 10\n",
    "    return a == b\n",
    "\n"
   ]
  },
  {
   "cell_type": "markdown",
   "metadata": {},
   "source": [
    "Hoàn thiện các phương thức trong file Fraction.py theo các mô tả sau:\n",
    "\n",
    "Hàm is_minimalist_fraction(numerator, denominator) kiểm tra phân số gồm tử số là numerator, và mẫu số là denominator có phải phân số tối giản hay không?\n",
    "\n",
    "Hàm get_minimalist_fraction(numerator, denominator) thực hiện tính và trả lại phân số tối giản của phân số đầu vào (phân số được trả lại là 2 giá trị tương ứng là tử số và mẫu số)\n",
    "\n",
    "bạn có thể dùng hàm gcd(u, v) trong module math để tìm ước chung lớn nhất của 2 số  u, v.\n",
    "\n"
   ]
  },
  {
   "cell_type": "code",
   "execution_count": 16,
   "metadata": {
    "ExecuteTime": {
     "end_time": "2025-02-11T17:23:41.493463Z",
     "start_time": "2025-02-11T17:23:41.488612Z"
    }
   },
   "outputs": [],
   "source": [
    "#Hoàn thiện các phương thức trong file Fraction.py theo các mô tả sau:\n",
    "\n",
    "#Hàm is_minimalist_fraction(numerator, denominator) kiểm tra phân số gồm tử số là numerator, và mẫu số là denominator có phải phân số tối giản hay không nếu đúng trả lại giá trị là True, ngược lại trả lại giá trị là False?\n",
    "\n",
    "import math\n",
    "\n",
    "\n",
    "def is_minimalist_fraction(numerator, denominator):\n",
    "    return math.gcd(numerator, denominator) == 1\n",
    "\n",
    "\n",
    "#Hàm get_minimalist_fraction(numerator, denominator) thực hiện tính và trả lại phân số tối giản của phân số đầu vào (phân số được trả lại là 2 giá trị tương ứng là tử số và mẫu số)\n",
    "\n",
    "def get_minimalist_fraction(numerator, denominator):\n",
    "    GCD = math.gcd(numerator, denominator)\n",
    "\n",
    "    numerator = numerator / GCD\n",
    "    denominator = denominator / GCD\n",
    "\n",
    "    return numerator, denominator\n"
   ]
  },
  {
   "cell_type": "code",
   "execution_count": 23,
   "metadata": {
    "ExecuteTime": {
     "end_time": "2025-02-11T17:24:21.121476Z",
     "start_time": "2025-02-11T17:24:21.110234Z"
    }
   },
   "outputs": [
    {
     "name": "stdout",
     "output_type": "stream",
     "text": [
      "False\n",
      "(1.0, 3.0)\n"
     ]
    }
   ],
   "source": [
    "a = 3\n",
    "b = 9\n",
    "print(is_minimalist_fraction(a, b))\n",
    "print(get_minimalist_fraction(a, b))"
   ]
  },
  {
   "cell_type": "markdown",
   "metadata": {},
   "source": [
    "Hàm f(x) liên tục trên đoạn [a, b] và có f(a)*f(b) < 0 thì tồn tại giá trị c thuộc [a, b] sao cho f(c) =0.\n",
    "\n",
    "Hoàn thiện hàm solver(f, a, b, e=0.00001) để tìm nghiệm xấp xỉ của phương trình f(x) = 0.\n",
    "\n",
    "trong các đối số có f là 1 hàm, khi đó lời gọi hàm f(t) sẽ trả lại giá trị của hàm f tại điểm t.\n",
    "\n",
    "nghiệm cần tìm là giá trị c sao cho |f(c)| <= e. Dùng hàm abs trong module math để tính giá trị tuyệt đối.\n",
    "\n",
    "Áp dụng phương pháp chia đôi để tìm nghiệm gần đúng của phương trình."
   ]
  },
  {
   "cell_type": "code",
   "execution_count": null,
   "metadata": {},
   "outputs": [],
   "source": [
    "import math\n",
    "\n",
    "\n",
    "def f(f, a, b, e=0.00001):\n"
   ]
  },
  {
   "cell_type": "markdown",
   "metadata": {},
   "source": [
    "Tính sin cos theo khai triển Taylor\n",
    "\n",
    "\n",
    "Chú ý: Điều kiện dừng: (x^n)/n! = 0."
   ]
  },
  {
   "cell_type": "code",
   "execution_count": null,
   "metadata": {},
   "outputs": [],
   "source": [
    "import math\n",
    "\n",
    "\n",
    "def sin(x, n):\n",
    "    result = 0\n",
    "    for i in range(n):\n",
    "        term = ((-1) ** i) * (x ** (2 * i + 1)) / math.factorial(2 * i + 1)  # (-1)^i * x^(2i+1) / (2i+1)!\n",
    "        result += term\n",
    "    return result\n",
    "\n",
    "\n",
    "def cos(x, n):\n",
    "    result = 0\n",
    "    for i in range(n):\n",
    "        term = ((-1) ** i) * (x ** (2 * i)) / math.factorial(2 * i)  # (-1)^i * x^(2i) / (2i)!\n",
    "        result += term\n",
    "    return result"
   ]
  },
  {
   "cell_type": "markdown",
   "metadata": {},
   "source": [
    "Tính căn bậc hai theo phương pháp Newton:\n",
    "Để tính căn bậc hai của một số dương t, hãy bắt đầu với ước tính t = c. Nếu t = c/t thì t bằng căn bậc hai của c. Nếu không, hãy tinh chỉnh ước tính bằng cách thay thế t bằng giá trị trung bình của t và c/t và lặp lại cho tới khi nhận được kết quả có độ chính xác tới 15 chữ số sau dấu phẩy.\n",
    "Chú ý: Điều kiện dừng là abs(t - c/t) < (EPSILON * t). Với EPSILON = 10E-15."
   ]
  },
  {
   "cell_type": "code",
   "execution_count": null,
   "metadata": {},
   "outputs": [],
   "source": []
  },
  {
   "cell_type": "markdown",
   "metadata": {},
   "source": [
    "Vay ngân hàng số tiền là A đồng với lãi suất r%/tháng. Sau đúng một tháng kể từ ngày vay, bắt đầu hoàn nợ; hai lần hoàn nợ cách nhau đúng một tháng, mỗi hoàn nợ số tiền là X đồng và trả hết tiền nợ sau đúng n tháng.\n",
    "Hãy hoàn thiện phương thức loan(A, r, n) với A, r, n là tham số truyền vào cho trước để tính số tiền cần hoàn nợ X.\n",
    "\n",
    "Dưới đây là cách tính tiền hoàn nợ:\n",
    "\n",
    "\n",
    "\n",
    "* Chú ý:\n",
    "Ví dụ:\n",
    "Đầu vào cho trước: \n",
    "A= 3786784723\n",
    "\n",
    "r = 0.12\n",
    "\n",
    "n = 6\n",
    "\n",
    "\n",
    "Đầu ra:\n",
    "Vay: 3,786,784,723.00 Đồng\n",
    "Lãi suất: 12.00%/tháng\n",
    "Trong: 6.00 tháng\n",
    "Mỗi tháng cần trả:  921,043,434.771 Đồng\n",
    "\n",
    "**Mỗi thông tin được in trên một dòng; các mục Vay, Lãi suất, số Tháng thì được lấy 2 chữ số sau dấu phẩy, mục Trả góp lấy 3 chữ số sau dấu phẩy.\n",
    "\n",
    "- Để in có định dạng dấu phẩy phân cách hàng nghìn có thể dùng phương thức format của lớp String (str)\n",
    "\n",
    "Ví du: print(\"{:,.3f}\".format(56789)) \n",
    "\n",
    "kết quả in ra là: 56,789.000  "
   ]
  },
  {
   "cell_type": "code",
   "execution_count": null,
   "metadata": {},
   "outputs": [],
   "source": []
  },
  {
   "cell_type": "markdown",
   "metadata": {},
   "source": [
    "Sinh viên hoàn thiện phương thức parse  nhận n là tham số đầu vào cho phép phân tích 1 số nguyên dương thành tích các thừa số nguyên tố.\n",
    "\n",
    "Gợi ý:\n",
    "\n",
    "Chia số n cho các số i từ 2 -> n đến khi nào không thể chia được nữa. \n",
    "\n",
    "Từ đó ta nhận thấy là các số phía sau i thì n không bao giờ chia hết nếu nó là bội của i mà chỉ có thể chia hết cho các số khác i chưa được kiểm tra, mà các số chưa kiểm tra đó chính là các số nguyên tố. Do vậy chúng ta sẽ không cần kiểm tra các số có là số nguyên tố hay không.\n",
    "\n",
    "Ví dụ với n =  18.\n",
    "\n",
    "i = 2  (18%2 ==0) lấy 18/2 = 9, (9%2  != 0 ) do đó tăng i lên 1\n",
    "\n",
    "i = 3 (9%3 == 0) lấy 9/3 = 3, (3%3 = 0) lấy 3/3 = 1 kết thúc\n",
    "\n",
    "vậy kết quả được phép phân tích là 18 = 2 x 3 x 3\n",
    "\n",
    "\n",
    "Vd:\n",
    "Input: 15\n",
    "Output: 15 = 3 x 5"
   ]
  },
  {
   "cell_type": "code",
   "execution_count": null,
   "metadata": {},
   "outputs": [],
   "source": []
  },
  {
   "cell_type": "markdown",
   "metadata": {},
   "source": [
    "Sinh viên hoàn thiện hàm convert trong file ToBinary.py, hàm này nhận vào đối số n là một số nguyên hệ cơ số 10 và trả về chuỗi dạng nhị phân của n.\n",
    "Sử dụng phép chuyển đổi số dạng thập phân sang nhị phân bằng phép chia với 2.\n",
    "\n",
    "Ví dụ:\n",
    "input = 11\n",
    "output = 1011"
   ]
  },
  {
   "cell_type": "code",
   "execution_count": null,
   "metadata": {},
   "outputs": [],
   "source": []
  },
  {
   "cell_type": "markdown",
   "metadata": {},
   "source": [
    "Sinh viên hoàn thiện phương thức convert với n là tham số cho trước để thực hiện chuyển đổi số dạng nhị phân sang thập phân.\n",
    "Xét ví dụ:\n",
    "\n",
    "\n",
    "Chú ý: Kiểu dữ liệu đầu vào là xâu chuỗi.\n",
    "Ví dụ:\n",
    "input: n = \"00001\"\n",
    "output: 1"
   ]
  },
  {
   "cell_type": "code",
   "execution_count": null,
   "metadata": {},
   "outputs": [],
   "source": []
  },
  {
   "cell_type": "markdown",
   "metadata": {},
   "source": [
    "Sinh viên hoàn thiện phương thức add(a, b) với a, b là tham số truyền vào cho trước để thực hiện phép cộng nhị phân.\n",
    "Xét ví dụ dưới đây:\n",
    "\n",
    "\n",
    "Chú ý: Kiểu dữ liệu đầu vào là xâu chuỗi: Ví dụ \"0001\""
   ]
  },
  {
   "cell_type": "code",
   "execution_count": null,
   "metadata": {},
   "outputs": [],
   "source": []
  },
  {
   "cell_type": "markdown",
   "metadata": {},
   "source": []
  }
 ],
 "metadata": {
  "kernelspec": {
   "display_name": "Python 3",
   "language": "python",
   "name": "python3"
  },
  "language_info": {
   "codemirror_mode": {
    "name": "ipython",
    "version": 3
   },
   "file_extension": ".py",
   "mimetype": "text/x-python",
   "name": "python",
   "nbconvert_exporter": "python",
   "pygments_lexer": "ipython3",
   "version": "3.11.9"
  }
 },
 "nbformat": 4,
 "nbformat_minor": 2
}
