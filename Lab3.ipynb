{
 "cells": [
  {
   "cell_type": "markdown",
   "metadata": {},
   "source": [
    "## Phần 3: Cấu trúc dữ liệu cơ bản"
   ]
  },
  {
   "cell_type": "markdown",
   "metadata": {},
   "source": [
    "3.1. Mật khẩu hợp lệ\n",
    "\n",
    "Một mật khẩu của một tài khoản trên trang web môn học được coi là hợp lệ nếu có đủ các yếu tố sau:\n",
    "\n",
    "1.    Độ dài từ 8 đến 100 ký tự\n",
    "\n",
    "2.    Có chữ cái in hoa\n",
    "\n",
    "3.    Có chữ cái thường\n",
    "\n",
    "4.    Có số\n",
    "\n",
    "5.    Có ký tự đặc biệt là một trong các ký tự sau: ~!@#$%^&*\n",
    "\n",
    "Viết chương trình nhập vào một mật khẩu, kiểm tra xem mật khẩu đó có hợp lệ theo quy tắc ở trên hay không?\n",
    "\n",
    "Hoàn thành hàm checkPassword(s) trong file Password.py, hàm này trả về True nếu mật khẩu là hợp lệ, trả lại false nếu mật khẩu không hợp lệ.\n"
   ]
  },
  {
   "cell_type": "code",
   "execution_count": null,
   "metadata": {},
   "outputs": [
    {
     "data": {
      "text/plain": [
       "False"
      ]
     },
     "execution_count": 4,
     "metadata": {},
     "output_type": "execute_result"
    }
   ],
   "source": [
    "\n",
    "def checkPassword(s):\n",
    "    n = len(s)\n",
    "    if not (8 <= n <= 100):\n",
    "        return False\n",
    "\n",
    "    if not any(c.isupper() for c in s):\n",
    "        return False\n",
    "\n",
    "    if not any(c.islower() for c in s):\n",
    "        return False\n",
    "\n",
    "    if not any(c.isdigit() for c in s):\n",
    "        return False\n",
    "\n",
    "    special_characters = \"~!@#$%^&*\"\n",
    "\n",
    "    if not any(c in special_characters for c in s):\n",
    "        return False\n",
    "\n",
    "    return True\n",
    "\n"
   ]
  },
  {
   "cell_type": "markdown",
   "metadata": {},
   "source": [
    "3.2 Tính phương sai\n",
    "\n",
    "Viết chương trình tính giá trị trung bình phương sai, độ lệch chuẩn của  một danh sách các số thực\n",
    "\n",
    "1.    Giá trị trung bình là trung bình cộng của các giá trị trong danh sách\n",
    "\n",
    "2.    Phương sai tính bằng công thức  \n",
    "\n",
    "công thức tính phương sai\n",
    "\n",
    "trong đó e là giá trị trung bình, xi là giá trị thứ i của danh sách.\n",
    "\n",
    "3.    Độ lệch chuẩn được tính bằng căn bậc 2 của phương sai.\n",
    "\n",
    "Hoàn thiện các phương thức trong file Statistical.py"
   ]
  },
  {
   "cell_type": "code",
   "execution_count": null,
   "metadata": {},
   "outputs": [],
   "source": [
    "import numpy as np\n",
    "\n",
    "\n",
    "def mean(s):\n",
    "    s = np.array(s)\n",
    "    return s.mean()\n",
    "\n",
    "\n",
    "def variance(s):\n",
    "    s = np.array(s)\n",
    "\n",
    "    v = np.mean((s - s.mean()) ** 2)\n",
    "    return v\n",
    "\n",
    "\n",
    "def standarddeviation(s):\n",
    "    return np.sqrt(variance(s))\n"
   ]
  },
  {
   "cell_type": "markdown",
   "metadata": {},
   "source": [
    "3.3 Góc giữa hai vector\n",
    "\n",
    "Viết chương trình tính góc giữa 2 vector:\n",
    "\n",
    "Hoàn thiện hàm def cosineb2v(u,v) trong file Vec.py, hàm này trả về giá trị cosine của góc giữa hai vector u và v theo công thức sau:"
   ]
  },
  {
   "cell_type": "code",
   "execution_count": 2,
   "metadata": {},
   "outputs": [],
   "source": [
    "import numpy as np\n",
    "\n",
    "\n",
    "def cosineb2v(u, v):\n",
    "    u = np.array(u)\n",
    "    v = np.array(v)\n",
    "\n",
    "    cos_ = np.dot(u, v) / (np.linalg.norm(u) * np.linalg.norm(v))\n",
    "    return cos_\n"
   ]
  },
  {
   "cell_type": "markdown",
   "metadata": {},
   "source": [
    "3.4 Sắp xếp chẵn lẻ\n",
    "\n",
    "Hoàn thiện hàm customSort(a) trong file SortAdv.py.\n",
    "\n",
    "Hàm thực hiện sắp xếp các phần tử trong danh sách a theo thứ tự như sau:\n",
    "\n",
    "- Các phần tử chẵn bên trái, lẻ bên phải, các số chẵn tăng dần, các số lẻ sắp xếp giảm dần\n",
    "\n",
    "Kết quả trả về là 1 danh sách được sắp xếp theo thứ tự trên\n",
    "\n",
    "Ví dụ a = [1,2,3,4,5,6,7,8,9,10]\n",
    "\n",
    "kết quả trả về là\n",
    "\n",
    "[2,4,6,8,10,9,7,5,3,1]\n",
    "\n"
   ]
  },
  {
   "cell_type": "code",
   "execution_count": null,
   "metadata": {},
   "outputs": [],
   "source": [
    "#Hoàn thiện hàm customSort\n",
    "\n",
    "\n",
    "def customSort(a):\n",
    "    '''\n",
    "    Hàm thực hiện sắp xếp các phần tử trong a, theo thứ tự:\n",
    "    - Chẵn bên trái, lẻ bên phải\n",
    "    - Chẵn tăng dần, lẻ giảm dần\n",
    "    ví dụ a  = [1, 2, 3, 4, 5, 6, 7, 8, 9, 10]\n",
    "    kết quả là [2, 4, 6, 8, 10, 9, 7, 5, 3, 1]\n",
    "    '''\n",
    "    even_arr = []\n",
    "    odd_arr = []\n",
    "\n",
    "    for num in a:\n",
    "        if num % 2 == 0:\n",
    "            even_arr.append(num)\n",
    "        else:\n",
    "            odd_arr.append(num)\n",
    "\n",
    "    return sorted(even_arr) + sorted(odd_arr, reverse=True)\n"
   ]
  },
  {
   "cell_type": "markdown",
   "metadata": {},
   "source": [
    "3.5 Cộng 2 số nguyên\n",
    "\n",
    "Cho 2 số nguyên a, b được biểu diễn bởi 2 danh sách\n",
    "\n",
    "ví dụ \n",
    "\n",
    "a = [1,2,4,5]\n",
    "\n",
    "b =   [7,8,9]\n",
    "\n",
    "thực hiện phép cộng 2 số a, b trên 2 danh sách theo quy tắc cộng thông thường. kết quả trả về là 1 danh sách biểu diễn tổng a+b\n",
    "\n",
    "c = [2,0,3,4]\n",
    "\n",
    "Hoàn thiện hàm addNum(a,b) trong file AddAdv.py, hàm này trả về tổng của a + b theo mô tả trên."
   ]
  },
  {
   "cell_type": "code",
   "execution_count": null,
   "metadata": {},
   "outputs": [],
   "source": [
    "\n",
    "#Hoàn thiện hàm addNum(a, b) theo yêu cầu trong đề bài\n",
    "\n",
    "\n",
    "def addNum(a, b):\n",
    "    '''\n",
    "    Cho 2 số nguyên a, b được biểu diễn bởi 2 danh sách\n",
    "    thực hiện phép cộng 2 số a, b trên 2 danh sách theo quy tắc cộng thông thường. kết quả trả về là 1 danh sách biểu diễn tổng a+b\n",
    "    ví dụ \n",
    "    a = [1,2,4,5]\n",
    "    b =   [7,8,9]\n",
    "   \n",
    "    c = [2,0,3,4]\n",
    "    '''\n",
    "    num_A = int(\"\".join(map(str, a)))\n",
    "    num_B = int(\"\".join(map(str, b)))\n",
    "    num_C = num_A + num_B\n",
    "    return [i for i in str(num_C)]"
   ]
  },
  {
   "cell_type": "markdown",
   "metadata": {},
   "source": [
    "3.6 Nhân số nguyên lớn\n",
    "\n",
    "Giống như bài cộng số nguyên 3.5, ở bài này chúng ta cần viết chương trình thực hiện nhân 2 số nguyên, trong đó mỗi số được lưu trong 1 danh sách.\n",
    "\n",
    "ví dụ \n",
    "\n",
    "a = [1,2,3,4]\n",
    "\n",
    "b=    [4,5,6]\n",
    "\n",
    "để thực hiện phép nhân, ta lấy từng giá trị của b (từ phải sang trái) nhân với các phần tử của a theo cách tính phép nhân thông thường.\n",
    "\n",
    "Với mỗi số hạng lùi dần về phía bên trái của b, ta thêm 1 số 0 vào danh sách kết quả.\n",
    "\n",
    "6 x a = 6 x [1,2,3,4] = [7,4,0,4] \n",
    "\n",
    "5 x a = 5 x [1,2,3,4] = [6,1,7,0], thêm 1 số 0 vào kết quả [6,1,7,0,0]\n",
    "\n",
    "4 x a = 4 x [1,2,3,4] =[4,9,3,6] thêm 2 số 0 vào kết quả [4,9,3,6,0,0]\n",
    "\n",
    "Giờ kết quả của phép nhân là việc cộng các mảng kết quả của các phép nhân trung gian ở trên. Khi đó chúng ta quay trở lại bài toán phép cộng số nguyên trên mảng (bài 3.5)"
   ]
  },
  {
   "cell_type": "code",
   "execution_count": null,
   "metadata": {},
   "outputs": [],
   "source": [
    "#Hoàn thiện hàm multiNum(a, b) theo yêu cầu trong đề bài\n",
    "\n",
    "\n",
    "def multiNum(a, b):\n",
    "    num_A = int(\"\".join(map(str, a)))\n",
    "    num_B = int(\"\".join(map(str, b)))\n",
    "    num_C = num_A * num_B\n",
    "    return [int(i) for i in str(num_C)]"
   ]
  }
 ],
 "metadata": {
  "kernelspec": {
   "display_name": "Python 3",
   "language": "python",
   "name": "python3"
  },
  "language_info": {
   "codemirror_mode": {
    "name": "ipython",
    "version": 3
   },
   "file_extension": ".py",
   "mimetype": "text/x-python",
   "name": "python",
   "nbconvert_exporter": "python",
   "pygments_lexer": "ipython3",
   "version": "3.11.9"
  }
 },
 "nbformat": 4,
 "nbformat_minor": 2
}
