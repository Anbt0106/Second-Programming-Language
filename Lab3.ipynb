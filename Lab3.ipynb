{
 "cells": [
  {
   "cell_type": "markdown",
   "metadata": {},
   "source": [
    "## Phần 3: Cấu trúc dữ liệu cơ bản"
   ]
  },
  {
   "cell_type": "markdown",
   "metadata": {},
   "source": [
    "3.1. Mật khẩu hợp lệ\n",
    "\n",
    "Một mật khẩu của một tài khoản trên trang web môn học được coi là hợp lệ nếu có đủ các yếu tố sau:\n",
    "\n",
    "1.    Độ dài từ 8 đến 100 ký tự\n",
    "\n",
    "2.    Có chữ cái in hoa\n",
    "\n",
    "3.    Có chữ cái thường\n",
    "\n",
    "4.    Có số\n",
    "\n",
    "5.    Có ký tự đặc biệt là một trong các ký tự sau: ~!@#$%^&*\n",
    "\n",
    "Viết chương trình nhập vào một mật khẩu, kiểm tra xem mật khẩu đó có hợp lệ theo quy tắc ở trên hay không?\n",
    "\n",
    "Hoàn thành hàm checkPassword(s) trong file Password.py, hàm này trả về True nếu mật khẩu là hợp lệ, trả lại false nếu mật khẩu không hợp lệ.\n"
   ]
  },
  {
   "cell_type": "code",
   "execution_count": null,
   "metadata": {},
   "outputs": [],
   "source": [
    "\n",
    "def checkPassword(s):\n",
    "    return False\n",
    "    \n",
    "    "
   ]
  },
  {
   "cell_type": "markdown",
   "metadata": {},
   "source": [
    "3.2 Tính phương sai\n",
    "\n",
    "Viết chương trình tính giá trị trung bình phương sai, độ lệch chuẩn của  một danh sách các số thực\n",
    "\n",
    "1.    Giá trị trung bình là trung bình cộng của các giá trị trong danh sách\n",
    "\n",
    "2.    Phương sai tính bằng công thức  \n",
    "\n",
    "công thức tính phương sai\n",
    "\n",
    "trong đó e là giá trị trung bình, xi là giá trị thứ i của danh sách.\n",
    "\n",
    "3.    Độ lệch chuẩn được tính bằng căn bậc 2 của phương sai.\n",
    "\n",
    "Hoàn thiện các phương thức trong file Statistical.py"
   ]
  },
  {
   "cell_type": "code",
   "execution_count": null,
   "metadata": {},
   "outputs": [],
   "source": [
    "def mean(s):\n",
    "    \n",
    "    return 0\n",
    "\n",
    "def variance(s):\n",
    "    \n",
    "    return 0\n",
    "\n",
    "def standarddeviation(s):\n",
    "    return 0\n"
   ]
  }
 ],
 "metadata": {
  "language_info": {
   "name": "python"
  }
 },
 "nbformat": 4,
 "nbformat_minor": 2
}
